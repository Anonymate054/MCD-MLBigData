{
 "cells": [
  {
   "cell_type": "markdown",
   "metadata": {},
   "source": [
    "![Logo](https://www.up.edu.mx/wp-content/themes/panamericana/img/logo-footer.png)\n",
    "\n",
    "# **Examen Final: Modelado score crediticio**\n",
    "\n",
    "## **Asignatura:** Aprendizaje para grandes datos  \n",
    "## **Profesor:** Raúl Martínez Noriega\n",
    "\n",
    "---\n",
    "\n",
    "**Nombre del Alumno:**  \n",
    "Luis Enrique Noguera Gil\n",
    "\n",
    "**Fecha de entrega:**  \n",
    "09 de diciembre de 2024\n"
   ]
  },
  {
   "cell_type": "markdown",
   "metadata": {},
   "source": [
    "# Auto reload modules"
   ]
  },
  {
   "cell_type": "code",
   "execution_count": 2,
   "metadata": {},
   "outputs": [],
   "source": [
    "%load_ext autoreload\n",
    "%autoreload 2"
   ]
  },
  {
   "cell_type": "markdown",
   "metadata": {},
   "source": [
    "# Directories"
   ]
  },
  {
   "cell_type": "code",
   "execution_count": 3,
   "metadata": {},
   "outputs": [],
   "source": [
    "# import findspark\n",
    "# findspark.init()\n",
    "\n",
    "import pyspark # only run after findspark.init()\n",
    "from pyspark.sql import SparkSession\n",
    "from pyspark.sql import functions as F\n",
    "import fs\n",
    "import os"
   ]
  },
  {
   "cell_type": "code",
   "execution_count": 4,
   "metadata": {},
   "outputs": [],
   "source": [
    "os.environ[\"JAVA_HOME\"] = \"/usr/lib/jvm/java-8-openjdk-amd64\"\n",
    "os.environ[\"SPARK_HOME\"] = \"../../spark-3.5.3-bin-hadoop3\""
   ]
  },
  {
   "cell_type": "code",
   "execution_count": 5,
   "metadata": {},
   "outputs": [],
   "source": [
    "import findspark\n",
    "findspark.init()"
   ]
  },
  {
   "cell_type": "markdown",
   "metadata": {},
   "source": [
    "Preparación del ambiente de Spark"
   ]
  },
  {
   "cell_type": "code",
   "execution_count": 6,
   "metadata": {},
   "outputs": [
    {
     "name": "stderr",
     "output_type": "stream",
     "text": [
      "24/12/09 19:34:00 WARN Utils: Your hostname, ThinkPad-X1-Nano resolves to a loopback address: 127.0.1.1; using 172.29.80.33 instead (on interface wlp0s20f3)\n",
      "24/12/09 19:34:00 WARN Utils: Set SPARK_LOCAL_IP if you need to bind to another address\n",
      "Setting default log level to \"WARN\".\n",
      "To adjust logging level use sc.setLogLevel(newLevel). For SparkR, use setLogLevel(newLevel).\n",
      "24/12/09 19:34:01 WARN NativeCodeLoader: Unable to load native-hadoop library for your platform... using builtin-java classes where applicable\n"
     ]
    },
    {
     "name": "stdout",
     "output_type": "stream",
     "text": [
      "You are working with 1 core(s)\n"
     ]
    },
    {
     "data": {
      "text/html": [
       "\n",
       "            <div>\n",
       "                <p><b>SparkSession - in-memory</b></p>\n",
       "                \n",
       "        <div>\n",
       "            <p><b>SparkContext</b></p>\n",
       "\n",
       "            <p><a href=\"http://172.29.80.33:4040\">Spark UI</a></p>\n",
       "\n",
       "            <dl>\n",
       "              <dt>Version</dt>\n",
       "                <dd><code>v3.5.3</code></dd>\n",
       "              <dt>Master</dt>\n",
       "                <dd><code>local[*]</code></dd>\n",
       "              <dt>AppName</dt>\n",
       "                <dd><code>hello_world_spark</code></dd>\n",
       "            </dl>\n",
       "        </div>\n",
       "        \n",
       "            </div>\n",
       "        "
      ],
      "text/plain": [
       "<pyspark.sql.session.SparkSession at 0x79f07516fc90>"
      ]
     },
     "execution_count": 6,
     "metadata": {},
     "output_type": "execute_result"
    }
   ],
   "source": [
    "spark = (SparkSession.builder\n",
    "  .master('local[*]')\n",
    "  .appName('hello_world_spark')\n",
    "  .getOrCreate())\n",
    "\n",
    "cores = spark._jsc.sc().getExecutorMemoryStatus().keySet().size()\n",
    "print(\"You are working with\", cores, \"core(s)\")\n",
    "spark"
   ]
  },
  {
   "cell_type": "code",
   "execution_count": 7,
   "metadata": {},
   "outputs": [],
   "source": [
    "sc = spark.sparkContext"
   ]
  },
  {
   "cell_type": "markdown",
   "metadata": {},
   "source": [
    "Mejorar la lectura de las tablas"
   ]
  },
  {
   "cell_type": "code",
   "execution_count": 8,
   "metadata": {},
   "outputs": [
    {
     "data": {
      "text/html": [
       "<style>pre { white-space: pre !important; }</style>"
      ],
      "text/plain": [
       "<IPython.core.display.HTML object>"
      ]
     },
     "metadata": {},
     "output_type": "display_data"
    }
   ],
   "source": [
    "from IPython.core.display import HTML\n",
    "display(HTML(\"<style>pre { white-space: pre !important; }</style>\"))"
   ]
  },
  {
   "cell_type": "markdown",
   "metadata": {},
   "source": [
    "Cargar archivos usando la librería fs para que sea agnóstico a cualquier ambiente distribuido o local."
   ]
  },
  {
   "cell_type": "code",
   "execution_count": 21,
   "metadata": {},
   "outputs": [],
   "source": [
    "RAW_DIR = fs.open_fs(\"../../data/raw\")\n",
    "CSV_DIR = RAW_DIR.getsyspath(\"score_de_credito.csv\")\n",
    "\n",
    "REPORTS_DIR = fs.open_fs(\"../../reports\")"
   ]
  },
  {
   "cell_type": "code",
   "execution_count": 10,
   "metadata": {},
   "outputs": [
    {
     "name": "stderr",
     "output_type": "stream",
     "text": [
      "24/12/09 19:35:33 WARN SparkStringUtils: Truncated the string representation of a plan since it was too large. This behavior can be adjusted by setting 'spark.sql.debug.maxToStringFields'.\n"
     ]
    },
    {
     "name": "stdout",
     "output_type": "stream",
     "text": [
      "+------+-----------+--------+-------------+----+-----------+----------+-------------+---------------------+-----------------+---------------+-------------+-----------+-------------------------------------------------------------------+-------------------+----------------------+--------------------+--------------------+----------+----------------+------------------------+---------------------+---------------------+-------------------+-----------------------+-------------------------------+------------------+------------+\n",
      "|ID    |Customer_ID|Month   |Name         |Age |SSN        |Occupation|Annual_Income|Monthly_Inhand_Salary|Num_Bank_Accounts|Num_Credit_Card|Interest_Rate|Num_of_Loan|Type_of_Loan                                                       |Delay_from_due_date|Num_of_Delayed_Payment|Changed_Credit_Limit|Num_Credit_Inquiries|Credit_Mix|Outstanding_Debt|Credit_Utilization_Ratio|Credit_History_Age   |Payment_of_Min_Amount|Total_EMI_per_month|Amount_invested_monthly|Payment_Behaviour              |Monthly_Balance   |Credit_Score|\n",
      "+------+-----------+--------+-------------+----+-----------+----------+-------------+---------------------+-----------------+---------------+-------------+-----------+-------------------------------------------------------------------+-------------------+----------------------+--------------------+--------------------+----------+----------------+------------------------+---------------------+---------------------+-------------------+-----------------------+-------------------------------+------------------+------------+\n",
      "|0x1602|CUS_0xd40  |January |Aaron Maashoh|23  |821-00-0265|Scientist |19114.12     |1824.8433333333328   |3                |4              |3            |4          |Auto Loan, Credit-Builder Loan, Personal Loan, and Home Equity Loan|3                  |7                     |11.27               |4.0                 |_         |809.98          |26.822619623699016      |22 Years and 1 Months|No                   |49.57494921489417  |80.41529543900253      |High_spent_Small_value_payments|312.49408867943663|Good        |\n",
      "|0x1603|CUS_0xd40  |February|Aaron Maashoh|23  |821-00-0265|Scientist |19114.12     |NULL                 |3                |4              |3            |4          |Auto Loan, Credit-Builder Loan, Personal Loan, and Home Equity Loan|-1                 |NULL                  |11.27               |4.0                 |Good      |809.98          |31.94496005538421       |NA                   |No                   |49.57494921489417  |118.28022162236736     |Low_spent_Large_value_payments |284.62916249607184|Good        |\n",
      "|0x1604|CUS_0xd40  |March   |Aaron Maashoh|-500|821-00-0265|Scientist |19114.12     |NULL                 |3                |4              |3            |4          |Auto Loan, Credit-Builder Loan, Personal Loan, and Home Equity Loan|3                  |7                     |_                   |4.0                 |Good      |809.98          |28.60935202206993       |22 Years and 3 Months|No                   |49.57494921489417  |81.699521264648        |Low_spent_Medium_value_payments|331.2098628537912 |Good        |\n",
      "+------+-----------+--------+-------------+----+-----------+----------+-------------+---------------------+-----------------+---------------+-------------+-----------+-------------------------------------------------------------------+-------------------+----------------------+--------------------+--------------------+----------+----------------+------------------------+---------------------+---------------------+-------------------+-----------------------+-------------------------------+------------------+------------+\n",
      "only showing top 3 rows\n",
      "\n"
     ]
    }
   ],
   "source": [
    "filePath = CSV_DIR\n",
    "\n",
    "rawDF = spark.read.csv(filePath,\n",
    "                       header=\"true\",\n",
    "                       inferSchema=\"true\",\n",
    "                       multiLine=\"true\",\n",
    "                       escape='\"')\n",
    "\n",
    "rawDF.show(3, truncate=False)"
   ]
  },
  {
   "cell_type": "markdown",
   "metadata": {},
   "source": [
    "# EDA"
   ]
  },
  {
   "cell_type": "markdown",
   "metadata": {},
   "source": [
    "# Hack Usando python"
   ]
  },
  {
   "cell_type": "markdown",
   "metadata": {},
   "source": [
    "Generación de Profiling de python para ahorrar tiempo. Esto se asume que se está tomando una muestra de un set de datos muy grande. "
   ]
  },
  {
   "cell_type": "code",
   "execution_count": null,
   "metadata": {},
   "outputs": [
    {
     "name": "stderr",
     "output_type": "stream",
     "text": [
      "                                                                                \r"
     ]
    },
    {
     "data": {
      "text/html": [
       "<div>\n",
       "<style scoped>\n",
       "    .dataframe tbody tr th:only-of-type {\n",
       "        vertical-align: middle;\n",
       "    }\n",
       "\n",
       "    .dataframe tbody tr th {\n",
       "        vertical-align: top;\n",
       "    }\n",
       "\n",
       "    .dataframe thead th {\n",
       "        text-align: right;\n",
       "    }\n",
       "</style>\n",
       "<table border=\"1\" class=\"dataframe\">\n",
       "  <thead>\n",
       "    <tr style=\"text-align: right;\">\n",
       "      <th></th>\n",
       "      <th>ID</th>\n",
       "      <th>Customer_ID</th>\n",
       "      <th>Month</th>\n",
       "      <th>Name</th>\n",
       "      <th>Age</th>\n",
       "      <th>SSN</th>\n",
       "      <th>Occupation</th>\n",
       "      <th>Annual_Income</th>\n",
       "      <th>Monthly_Inhand_Salary</th>\n",
       "      <th>Num_Bank_Accounts</th>\n",
       "      <th>...</th>\n",
       "      <th>Credit_Mix</th>\n",
       "      <th>Outstanding_Debt</th>\n",
       "      <th>Credit_Utilization_Ratio</th>\n",
       "      <th>Credit_History_Age</th>\n",
       "      <th>Payment_of_Min_Amount</th>\n",
       "      <th>Total_EMI_per_month</th>\n",
       "      <th>Amount_invested_monthly</th>\n",
       "      <th>Payment_Behaviour</th>\n",
       "      <th>Monthly_Balance</th>\n",
       "      <th>Credit_Score</th>\n",
       "    </tr>\n",
       "  </thead>\n",
       "  <tbody>\n",
       "    <tr>\n",
       "      <th>0</th>\n",
       "      <td>0x1602</td>\n",
       "      <td>CUS_0xd40</td>\n",
       "      <td>January</td>\n",
       "      <td>Aaron Maashoh</td>\n",
       "      <td>23</td>\n",
       "      <td>821-00-0265</td>\n",
       "      <td>Scientist</td>\n",
       "      <td>19114.12</td>\n",
       "      <td>1824.843333</td>\n",
       "      <td>3</td>\n",
       "      <td>...</td>\n",
       "      <td>_</td>\n",
       "      <td>809.98</td>\n",
       "      <td>26.822620</td>\n",
       "      <td>22 Years and 1 Months</td>\n",
       "      <td>No</td>\n",
       "      <td>49.574949</td>\n",
       "      <td>80.41529543900253</td>\n",
       "      <td>High_spent_Small_value_payments</td>\n",
       "      <td>312.49408867943663</td>\n",
       "      <td>Good</td>\n",
       "    </tr>\n",
       "    <tr>\n",
       "      <th>1</th>\n",
       "      <td>0x1603</td>\n",
       "      <td>CUS_0xd40</td>\n",
       "      <td>February</td>\n",
       "      <td>Aaron Maashoh</td>\n",
       "      <td>23</td>\n",
       "      <td>821-00-0265</td>\n",
       "      <td>Scientist</td>\n",
       "      <td>19114.12</td>\n",
       "      <td>NaN</td>\n",
       "      <td>3</td>\n",
       "      <td>...</td>\n",
       "      <td>Good</td>\n",
       "      <td>809.98</td>\n",
       "      <td>31.944960</td>\n",
       "      <td>NA</td>\n",
       "      <td>No</td>\n",
       "      <td>49.574949</td>\n",
       "      <td>118.28022162236736</td>\n",
       "      <td>Low_spent_Large_value_payments</td>\n",
       "      <td>284.62916249607184</td>\n",
       "      <td>Good</td>\n",
       "    </tr>\n",
       "    <tr>\n",
       "      <th>2</th>\n",
       "      <td>0x1604</td>\n",
       "      <td>CUS_0xd40</td>\n",
       "      <td>March</td>\n",
       "      <td>Aaron Maashoh</td>\n",
       "      <td>-500</td>\n",
       "      <td>821-00-0265</td>\n",
       "      <td>Scientist</td>\n",
       "      <td>19114.12</td>\n",
       "      <td>NaN</td>\n",
       "      <td>3</td>\n",
       "      <td>...</td>\n",
       "      <td>Good</td>\n",
       "      <td>809.98</td>\n",
       "      <td>28.609352</td>\n",
       "      <td>22 Years and 3 Months</td>\n",
       "      <td>No</td>\n",
       "      <td>49.574949</td>\n",
       "      <td>81.699521264648</td>\n",
       "      <td>Low_spent_Medium_value_payments</td>\n",
       "      <td>331.2098628537912</td>\n",
       "      <td>Good</td>\n",
       "    </tr>\n",
       "    <tr>\n",
       "      <th>3</th>\n",
       "      <td>0x1605</td>\n",
       "      <td>CUS_0xd40</td>\n",
       "      <td>April</td>\n",
       "      <td>Aaron Maashoh</td>\n",
       "      <td>23</td>\n",
       "      <td>821-00-0265</td>\n",
       "      <td>Scientist</td>\n",
       "      <td>19114.12</td>\n",
       "      <td>NaN</td>\n",
       "      <td>3</td>\n",
       "      <td>...</td>\n",
       "      <td>Good</td>\n",
       "      <td>809.98</td>\n",
       "      <td>31.377862</td>\n",
       "      <td>22 Years and 4 Months</td>\n",
       "      <td>No</td>\n",
       "      <td>49.574949</td>\n",
       "      <td>199.4580743910713</td>\n",
       "      <td>Low_spent_Small_value_payments</td>\n",
       "      <td>223.45130972736786</td>\n",
       "      <td>Good</td>\n",
       "    </tr>\n",
       "    <tr>\n",
       "      <th>4</th>\n",
       "      <td>0x1606</td>\n",
       "      <td>CUS_0xd40</td>\n",
       "      <td>May</td>\n",
       "      <td>Aaron Maashoh</td>\n",
       "      <td>23</td>\n",
       "      <td>821-00-0265</td>\n",
       "      <td>Scientist</td>\n",
       "      <td>19114.12</td>\n",
       "      <td>1824.843333</td>\n",
       "      <td>3</td>\n",
       "      <td>...</td>\n",
       "      <td>Good</td>\n",
       "      <td>809.98</td>\n",
       "      <td>24.797347</td>\n",
       "      <td>22 Years and 5 Months</td>\n",
       "      <td>No</td>\n",
       "      <td>49.574949</td>\n",
       "      <td>41.420153086217326</td>\n",
       "      <td>High_spent_Medium_value_payments</td>\n",
       "      <td>341.48923103222177</td>\n",
       "      <td>Good</td>\n",
       "    </tr>\n",
       "  </tbody>\n",
       "</table>\n",
       "<p>5 rows × 28 columns</p>\n",
       "</div>"
      ],
      "text/plain": [
       "       ID Customer_ID     Month           Name   Age          SSN Occupation  \\\n",
       "0  0x1602   CUS_0xd40   January  Aaron Maashoh    23  821-00-0265  Scientist   \n",
       "1  0x1603   CUS_0xd40  February  Aaron Maashoh    23  821-00-0265  Scientist   \n",
       "2  0x1604   CUS_0xd40     March  Aaron Maashoh  -500  821-00-0265  Scientist   \n",
       "3  0x1605   CUS_0xd40     April  Aaron Maashoh    23  821-00-0265  Scientist   \n",
       "4  0x1606   CUS_0xd40       May  Aaron Maashoh    23  821-00-0265  Scientist   \n",
       "\n",
       "  Annual_Income  Monthly_Inhand_Salary  Num_Bank_Accounts  ...  Credit_Mix  \\\n",
       "0      19114.12            1824.843333                  3  ...           _   \n",
       "1      19114.12                    NaN                  3  ...        Good   \n",
       "2      19114.12                    NaN                  3  ...        Good   \n",
       "3      19114.12                    NaN                  3  ...        Good   \n",
       "4      19114.12            1824.843333                  3  ...        Good   \n",
       "\n",
       "   Outstanding_Debt Credit_Utilization_Ratio     Credit_History_Age  \\\n",
       "0            809.98                26.822620  22 Years and 1 Months   \n",
       "1            809.98                31.944960                     NA   \n",
       "2            809.98                28.609352  22 Years and 3 Months   \n",
       "3            809.98                31.377862  22 Years and 4 Months   \n",
       "4            809.98                24.797347  22 Years and 5 Months   \n",
       "\n",
       "   Payment_of_Min_Amount Total_EMI_per_month Amount_invested_monthly  \\\n",
       "0                     No           49.574949       80.41529543900253   \n",
       "1                     No           49.574949      118.28022162236736   \n",
       "2                     No           49.574949         81.699521264648   \n",
       "3                     No           49.574949       199.4580743910713   \n",
       "4                     No           49.574949      41.420153086217326   \n",
       "\n",
       "                  Payment_Behaviour     Monthly_Balance Credit_Score  \n",
       "0   High_spent_Small_value_payments  312.49408867943663         Good  \n",
       "1    Low_spent_Large_value_payments  284.62916249607184         Good  \n",
       "2   Low_spent_Medium_value_payments   331.2098628537912         Good  \n",
       "3    Low_spent_Small_value_payments  223.45130972736786         Good  \n",
       "4  High_spent_Medium_value_payments  341.48923103222177         Good  \n",
       "\n",
       "[5 rows x 28 columns]"
      ]
     },
     "metadata": {},
     "output_type": "display_data"
    }
   ],
   "source": [
    "df = rawDF.toPandas()\n",
    "df.head()"
   ]
  },
  {
   "cell_type": "code",
   "execution_count": null,
   "metadata": {},
   "outputs": [
    {
     "data": {
      "application/vnd.jupyter.widget-view+json": {
       "model_id": "f205f5beec7545bfa57405e908a11ebe",
       "version_major": 2,
       "version_minor": 0
      },
      "text/plain": [
       "Summarize dataset:   0%|          | 0/5 [00:00<?, ?it/s]"
      ]
     },
     "metadata": {},
     "output_type": "display_data"
    }
   ],
   "source": [
    "from ydata_profiling import ProfileReport\n",
    "Profile_DIR = REPORTS_DIR.getsyspath(\"EDA_REPORT_DIR\")\n",
    "\n",
    "#Generate Profile Report\n",
    "report = ProfileReport(df, title= 'Report', html={'style':{'full_width':True}})\n",
    "report.to_file(output_file=Profile_DIR)"
   ]
  },
  {
   "cell_type": "markdown",
   "metadata": {},
   "source": [
    "# Usando PySpark"
   ]
  },
  {
   "cell_type": "markdown",
   "metadata": {},
   "source": [
    "1. ¿Cuántos registros hay?"
   ]
  },
  {
   "cell_type": "code",
   "execution_count": 12,
   "metadata": {},
   "outputs": [
    {
     "name": "stderr",
     "output_type": "stream",
     "text": [
      "                                                                                \r"
     ]
    },
    {
     "data": {
      "text/plain": [
       "100000"
      ]
     },
     "execution_count": 12,
     "metadata": {},
     "output_type": "execute_result"
    }
   ],
   "source": [
    "rawDF.count()"
   ]
  },
  {
   "cell_type": "markdown",
   "metadata": {},
   "source": [
    "¿Habrá duplicados?"
   ]
  },
  {
   "cell_type": "code",
   "execution_count": 14,
   "metadata": {},
   "outputs": [
    {
     "name": "stderr",
     "output_type": "stream",
     "text": [
      "                                                                                \r"
     ]
    },
    {
     "data": {
      "text/plain": [
       "100000"
      ]
     },
     "execution_count": 14,
     "metadata": {},
     "output_type": "execute_result"
    }
   ],
   "source": [
    "rawDF.dropDuplicates()\n",
    "rawDF.count()"
   ]
  },
  {
   "cell_type": "markdown",
   "metadata": {},
   "source": [
    "No los hay."
   ]
  },
  {
   "cell_type": "markdown",
   "metadata": {},
   "source": [
    "¿Qué tipo de datos se tiene?"
   ]
  },
  {
   "cell_type": "code",
   "execution_count": 15,
   "metadata": {},
   "outputs": [
    {
     "name": "stdout",
     "output_type": "stream",
     "text": [
      "root\n",
      " |-- ID: string (nullable = true)\n",
      " |-- Customer_ID: string (nullable = true)\n",
      " |-- Month: string (nullable = true)\n",
      " |-- Name: string (nullable = true)\n",
      " |-- Age: string (nullable = true)\n",
      " |-- SSN: string (nullable = true)\n",
      " |-- Occupation: string (nullable = true)\n",
      " |-- Annual_Income: string (nullable = true)\n",
      " |-- Monthly_Inhand_Salary: double (nullable = true)\n",
      " |-- Num_Bank_Accounts: integer (nullable = true)\n",
      " |-- Num_Credit_Card: integer (nullable = true)\n",
      " |-- Interest_Rate: integer (nullable = true)\n",
      " |-- Num_of_Loan: string (nullable = true)\n",
      " |-- Type_of_Loan: string (nullable = true)\n",
      " |-- Delay_from_due_date: integer (nullable = true)\n",
      " |-- Num_of_Delayed_Payment: string (nullable = true)\n",
      " |-- Changed_Credit_Limit: string (nullable = true)\n",
      " |-- Num_Credit_Inquiries: double (nullable = true)\n",
      " |-- Credit_Mix: string (nullable = true)\n",
      " |-- Outstanding_Debt: string (nullable = true)\n",
      " |-- Credit_Utilization_Ratio: double (nullable = true)\n",
      " |-- Credit_History_Age: string (nullable = true)\n",
      " |-- Payment_of_Min_Amount: string (nullable = true)\n",
      " |-- Total_EMI_per_month: double (nullable = true)\n",
      " |-- Amount_invested_monthly: string (nullable = true)\n",
      " |-- Payment_Behaviour: string (nullable = true)\n",
      " |-- Monthly_Balance: string (nullable = true)\n",
      " |-- Credit_Score: string (nullable = true)\n",
      "\n"
     ]
    }
   ],
   "source": [
    "rawDF.printSchema()"
   ]
  },
  {
   "cell_type": "markdown",
   "metadata": {},
   "source": [
    "Vamos a seleccionar las variables que me interesan analizar, ya que por tiempo no se pueden revisar minuciosamente todas."
   ]
  },
  {
   "cell_type": "code",
   "execution_count": 16,
   "metadata": {},
   "outputs": [
    {
     "data": {
      "text/plain": [
       "['ID',\n",
       " 'Customer_ID',\n",
       " 'Month',\n",
       " 'Name',\n",
       " 'Age',\n",
       " 'SSN',\n",
       " 'Occupation',\n",
       " 'Annual_Income',\n",
       " 'Monthly_Inhand_Salary',\n",
       " 'Num_Bank_Accounts',\n",
       " 'Num_Credit_Card',\n",
       " 'Interest_Rate',\n",
       " 'Num_of_Loan',\n",
       " 'Type_of_Loan',\n",
       " 'Delay_from_due_date',\n",
       " 'Num_of_Delayed_Payment',\n",
       " 'Changed_Credit_Limit',\n",
       " 'Num_Credit_Inquiries',\n",
       " 'Credit_Mix',\n",
       " 'Outstanding_Debt',\n",
       " 'Credit_Utilization_Ratio',\n",
       " 'Credit_History_Age',\n",
       " 'Payment_of_Min_Amount',\n",
       " 'Total_EMI_per_month',\n",
       " 'Amount_invested_monthly',\n",
       " 'Payment_Behaviour',\n",
       " 'Monthly_Balance',\n",
       " 'Credit_Score']"
      ]
     },
     "execution_count": 16,
     "metadata": {},
     "output_type": "execute_result"
    }
   ],
   "source": [
    "rawDF.columns"
   ]
  },
  {
   "cell_type": "markdown",
   "metadata": {},
   "source": [
    "¿Hay clientes repetidos?"
   ]
  },
  {
   "cell_type": "code",
   "execution_count": 19,
   "metadata": {},
   "outputs": [
    {
     "name": "stderr",
     "output_type": "stream",
     "text": [
      "                                                                                \r"
     ]
    },
    {
     "data": {
      "text/plain": [
       "12500"
      ]
     },
     "execution_count": 19,
     "metadata": {},
     "output_type": "execute_result"
    }
   ],
   "source": [
    "rawDF.select(\"Customer_ID\").distinct().count()"
   ]
  },
  {
   "cell_type": "code",
   "execution_count": 20,
   "metadata": {},
   "outputs": [
    {
     "data": {
      "text/plain": [
       "100000"
      ]
     },
     "execution_count": 20,
     "metadata": {},
     "output_type": "execute_result"
    }
   ],
   "source": [
    "rawDF.select(\"Customer_ID\").count()"
   ]
  },
  {
   "cell_type": "markdown",
   "metadata": {},
   "source": [
    "Por lo tanto hay 12,500 clientes."
   ]
  },
  {
   "cell_type": "markdown",
   "metadata": {},
   "source": [
    "¿Hay datos faltantes? Pero aquí mejor dicho serán datos nulos previamente definidos ya que hay datos incorrectos en el set de datos, que no serán marcados como nulos."
   ]
  },
  {
   "cell_type": "markdown",
   "metadata": {},
   "source": [
    "Referencia https://stackoverflow.com/questions/44627386/how-to-find-count-of-null-and-nan-values-for-each-column-in-a-pyspark-dataframe"
   ]
  },
  {
   "cell_type": "code",
   "execution_count": 36,
   "metadata": {},
   "outputs": [
    {
     "name": "stderr",
     "output_type": "stream",
     "text": [
      "[Stage 29:>                                                         (0 + 1) / 1]\r"
     ]
    },
    {
     "name": "stdout",
     "output_type": "stream",
     "text": [
      "+---+-----------+-----+----+---+---+----------+-------------+---------------------+-----------------+---------------+-------------+-----------+------------+-------------------+----------------------+--------------------+--------------------+----------+----------------+------------------------+------------------+---------------------+-------------------+-----------------------+-----------------+---------------+------------+\n",
      "| ID|Customer_ID|Month|Name|Age|SSN|Occupation|Annual_Income|Monthly_Inhand_Salary|Num_Bank_Accounts|Num_Credit_Card|Interest_Rate|Num_of_Loan|Type_of_Loan|Delay_from_due_date|Num_of_Delayed_Payment|Changed_Credit_Limit|Num_Credit_Inquiries|Credit_Mix|Outstanding_Debt|Credit_Utilization_Ratio|Credit_History_Age|Payment_of_Min_Amount|Total_EMI_per_month|Amount_invested_monthly|Payment_Behaviour|Monthly_Balance|Credit_Score|\n",
      "+---+-----------+-----+----+---+---+----------+-------------+---------------------+-----------------+---------------+-------------+-----------+------------+-------------------+----------------------+--------------------+--------------------+----------+----------------+------------------------+------------------+---------------------+-------------------+-----------------------+-----------------+---------------+------------+\n",
      "|  0|          0|    0|9985|  0|  0|         0|            0|                15002|                0|              0|            0|          0|       11408|                  0|                  7002|                   0|                1965|         0|               0|                       0|                 0|                    0|                  0|                   4479|                0|           1200|           0|\n",
      "+---+-----------+-----+----+---+---+----------+-------------+---------------------+-----------------+---------------+-------------+-----------+------------+-------------------+----------------------+--------------------+--------------------+----------+----------------+------------------------+------------------+---------------------+-------------------+-----------------------+-----------------+---------------+------------+\n",
      "\n"
     ]
    },
    {
     "name": "stderr",
     "output_type": "stream",
     "text": [
      "                                                                                \r"
     ]
    }
   ],
   "source": [
    "(\n",
    "    rawDF\n",
    "    .select([F.count(F.when(F.isnull(c), c)).alias(c) for c in rawDF.columns])\n",
    ").show()"
   ]
  },
  {
   "cell_type": "code",
   "execution_count": null,
   "metadata": {},
   "outputs": [
    {
     "name": "stderr",
     "output_type": "stream",
     "text": [
      "[Stage 22:>                                                         (0 + 1) / 1]\r"
     ]
    },
    {
     "name": "stdout",
     "output_type": "stream",
     "text": [
      "+-------+-------+-----------+------+------+------------------+-----------+----------+------------------+---------------------+------------------+------------------+------------------+-----------------+--------------------+-------------------+----------------------+--------------------+--------------------+----------+------------------+------------------------+--------------------+---------------------+-------------------+-----------------------+--------------------+--------------------+------------+\n",
      "|summary|     ID|Customer_ID| Month|  Name|               Age|        SSN|Occupation|     Annual_Income|Monthly_Inhand_Salary| Num_Bank_Accounts|   Num_Credit_Card|     Interest_Rate|      Num_of_Loan|        Type_of_Loan|Delay_from_due_date|Num_of_Delayed_Payment|Changed_Credit_Limit|Num_Credit_Inquiries|Credit_Mix|  Outstanding_Debt|Credit_Utilization_Ratio|  Credit_History_Age|Payment_of_Min_Amount|Total_EMI_per_month|Amount_invested_monthly|   Payment_Behaviour|     Monthly_Balance|Credit_Score|\n",
      "+-------+-------+-----------+------+------+------------------+-----------+----------+------------------+---------------------+------------------+------------------+------------------+-----------------+--------------------+-------------------+----------------------+--------------------+--------------------+----------+------------------+------------------------+--------------------+---------------------+-------------------+-----------------------+--------------------+--------------------+------------+\n",
      "|  count| 100000|     100000|100000| 90015|            100000|     100000|    100000|            100000|                84998|            100000|            100000|            100000|           100000|               88592|             100000|                 92998|              100000|               98035|    100000|            100000|                  100000|              100000|               100000|             100000|                  95521|              100000|               98800|      100000|\n",
      "|   mean|   NULL|       NULL|  NULL|  NULL|110.93450521244253|       NULL|      NULL|178578.96419941346|    4194.170849600323|          17.09128|          22.47443|          72.46604|2.780339232263824|                NULL|           21.06878|    31.033051166707292|  10.389025115157766|   27.75425103279441|      NULL|  1426.50370013437|       32.28517251894346|                NULL|                 NULL| 1403.1182166159347|     195.53945602655148|                NULL|   402.5512581105171|        NULL|\n",
      "| stddev|   NULL|       NULL|  NULL|  NULL| 689.4078643530435|       NULL|      NULL| 1442878.388969455|   3183.6861668732463|117.40483442734838|129.05741011009877|466.42262122171525|62.50094029960761|                NULL| 14.860104223678087|    226.95575777044624|   6.789496202377789|   193.1773389800322|      NULL|1155.0457527707683|       5.116875070150886|                NULL|                 NULL|    8306.0412703217|     199.56452699813482|                NULL|  213.92549893102628|        NULL|\n",
      "|    min|0x10002| CUS_0x1000| April| Mattr|              -500|  #F%$D@*&8|Accountant|        10001727.0|    303.6454166666666|                -1|                 0|                 1|             -100|           Auto Loan|                 -5|                    -1|-0.00999999999999...|                 0.0|       Bad|              0.23|                    20.0|0 Years and 1 Months|                   NM|                0.0|                    0.0|              !@9#%8|0.007759664775335295|        Good|\n",
      "|    25%|   NULL|       NULL|  NULL|  NULL|              24.0|       NULL|      NULL|          19433.48|   1625.5583333333334|                 3|                 4|                 8|              1.0|                NULL|                 10|                   9.0|                5.33|                 3.0|      NULL|            566.05|      28.052567592632023|                NULL|                 NULL| 30.306459807207013|      72.22309241212979|                NULL|    270.092502051969|        NULL|\n",
      "|    50%|   NULL|       NULL|  NULL|  NULL|              33.0|       NULL|      NULL|          37547.68|   3091.3866666666668|                 6|                 5|                13|              3.0|                NULL|                 18|                  14.0|                 9.4|                 6.0|      NULL|           1166.23|       32.30402291675685|                NULL|                 NULL|  69.23716233825547|     128.92859016650021|                NULL|   336.7124940705778|        NULL|\n",
      "|    75%|   NULL|       NULL|  NULL|  NULL|              42.0|       NULL|      NULL|          72817.88|    5956.009999999998|                 7|                 7|                20|              5.0|                NULL|                 28|                  18.0|               14.86|                 9.0|      NULL|           1946.81|       36.49591119480094|                NULL|                 NULL| 161.16319867530373|      236.7664299209694|                NULL|  470.18081605443666|        NULL|\n",
      "|    max| 0xfffd|  CUS_0xffd|   May|    yv|               995|999-99-3421|   _______|          99995.22|   15204.633333333333|              1798|              1499|              5797|               9_|Student Loan, and...|                 67|                    9_|                   _|              2597.0|         _|            999.48|       50.00000000000001|                  NA|                  Yes|            82331.0|              __10000__|Low_spent_Small_v...|__-33333333333333...|    Standard|\n",
      "+-------+-------+-----------+------+------+------------------+-----------+----------+------------------+---------------------+------------------+------------------+------------------+-----------------+--------------------+-------------------+----------------------+--------------------+--------------------+----------+------------------+------------------------+--------------------+---------------------+-------------------+-----------------------+--------------------+--------------------+------------+\n",
      "\n"
     ]
    },
    {
     "name": "stderr",
     "output_type": "stream",
     "text": [
      "                                                                                \r"
     ]
    }
   ],
   "source": [
    "(\n",
    "    rawDF\n",
    "    .summary()    \n",
    ").show()"
   ]
  },
  {
   "cell_type": "markdown",
   "metadata": {},
   "source": [
    "Primero hay que validar cúantos datos por cliente tenemos."
   ]
  },
  {
   "cell_type": "code",
   "execution_count": 42,
   "metadata": {},
   "outputs": [
    {
     "name": "stderr",
     "output_type": "stream",
     "text": [
      "[Stage 40:>                                                         (0 + 1) / 1]\r"
     ]
    },
    {
     "name": "stdout",
     "output_type": "stream",
     "text": [
      "+-----------+-----+\n",
      "|Customer_ID|count|\n",
      "+-----------+-----+\n",
      "| CUS_0x33d2|    8|\n",
      "|  CUS_0xc65|    8|\n",
      "| CUS_0x36ab|    8|\n",
      "| CUS_0x7250|    8|\n",
      "| CUS_0x9e13|    8|\n",
      "|  CUS_0xf6c|    8|\n",
      "| CUS_0x80b3|    8|\n",
      "| CUS_0x42fb|    8|\n",
      "| CUS_0x5479|    8|\n",
      "| CUS_0x834f|    8|\n",
      "| CUS_0x74f9|    8|\n",
      "| CUS_0x684a|    8|\n",
      "| CUS_0x63e0|    8|\n",
      "| CUS_0x4e0d|    8|\n",
      "| CUS_0x9f4c|    8|\n",
      "| CUS_0xa980|    8|\n",
      "| CUS_0x6371|    8|\n",
      "| CUS_0x878c|    8|\n",
      "| CUS_0xc064|    8|\n",
      "| CUS_0x74c9|    8|\n",
      "+-----------+-----+\n",
      "only showing top 20 rows\n",
      "\n"
     ]
    },
    {
     "name": "stderr",
     "output_type": "stream",
     "text": [
      "                                                                                \r"
     ]
    }
   ],
   "source": [
    "(\n",
    "    rawDF\n",
    "    .groupBy(\"Customer_ID\")\n",
    "    .count()\n",
    ").show()"
   ]
  },
  {
   "cell_type": "markdown",
   "metadata": {},
   "source": [
    "¿Cuántos meses hay?"
   ]
  },
  {
   "cell_type": "code",
   "execution_count": 43,
   "metadata": {},
   "outputs": [
    {
     "name": "stdout",
     "output_type": "stream",
     "text": [
      "+--------+-----+\n",
      "|   Month|count|\n",
      "+--------+-----+\n",
      "|    July|12500|\n",
      "|February|12500|\n",
      "| January|12500|\n",
      "|   March|12500|\n",
      "|     May|12500|\n",
      "|  August|12500|\n",
      "|   April|12500|\n",
      "|    June|12500|\n",
      "+--------+-----+\n",
      "\n"
     ]
    }
   ],
   "source": [
    "(\n",
    "    rawDF\n",
    "    .groupBy(\"Month\")\n",
    "    .count()\n",
    ").show()"
   ]
  },
  {
   "cell_type": "markdown",
   "metadata": {},
   "source": [
    "Hay 8 meses y en todos hay datos, pero no todos son correctos. Por tanto necesito identificar aquellos clientes que tienen toda la información correcta."
   ]
  },
  {
   "cell_type": "markdown",
   "metadata": {},
   "source": [
    "Vamos a eliminar variables que no tienen sentido. O bien, filtrar los datos que son plausibles de ser reales."
   ]
  },
  {
   "cell_type": "code",
   "execution_count": 54,
   "metadata": {},
   "outputs": [],
   "source": [
    "Float_cols = [\"Annual_Income\", \"Monthly_Inhand_Salary\", \"Num_Bank_Accounts\", \"Num_Credit_Card\", \"Interest_Rate\", \"Num_of_Loan\",\n",
    "              \"Delay_from_due_date\", \"Num_of_Delayed_Payment\", \"Changed_Credit_Limit\", \"Num_Credit_Inquiries\",\n",
    "              \"Outstanding_Debt\",\"Credit_Utilization_Ratio\", \"Total_EMI_per_month\", \"Amount_invested_monthly\", \n",
    "              \"Payment_Behaviour\",\"Monthly_Balance\"]"
   ]
  },
  {
   "cell_type": "code",
   "execution_count": null,
   "metadata": {},
   "outputs": [],
   "source": [
    "String_cols = [\"Month\", \"Occupation\"]"
   ]
  },
  {
   "cell_type": "markdown",
   "metadata": {},
   "source": [
    "Referencia https://stackoverflow.com/questions/53743795/how-to-check-if-a-string-column-in-pyspark-dataframe-is-all-numeric"
   ]
  },
  {
   "cell_type": "code",
   "execution_count": 101,
   "metadata": {},
   "outputs": [
    {
     "name": "stderr",
     "output_type": "stream",
     "text": [
      "                                                                                \r"
     ]
    },
    {
     "data": {
      "text/plain": [
       "53067"
      ]
     },
     "execution_count": 101,
     "metadata": {},
     "output_type": "execute_result"
    }
   ],
   "source": [
    "rawDF_filtered = (\n",
    "    rawDF\n",
    "    .filter(\n",
    "        # Tomando edades reales o plausibles o sin errores\n",
    "        (F.col(\"Age\").between(15, 80)),\n",
    "    )\n",
    "    # Tomando Valores que sean String\n",
    "    .filter(\n",
    "        (F.col(\"Month\").cast(\"string\").isNotNull())\n",
    "    )\n",
    "    .filter(\n",
    "        (F.col(\"Occupation\").cast(\"string\").isNotNull())\n",
    "    )\n",
    "    # Se omite, puesto que quita muchos clientes dejarla lo reduce a 13\n",
    "    # .filter(\n",
    "    #     (F.col(\"Credit_Mix\").cast(\"string\").isNotNull()) & \n",
    "    #     (F.col(\"Credit_Mix\") != \"_\")\n",
    "    # )\n",
    "    # Tomando Valores que sean flotantes\n",
    "    .filter(\n",
    "        (F.col(\"Annual_Income\").cast(\"float\").isNotNull())\n",
    "    )\n",
    ".   filter(\n",
    "        (F.col(\"Annual_Income\").cast(\"float\").isNotNull())\n",
    "    )\n",
    "    .filter(\n",
    "        (F.col(\"Monthly_Inhand_Salary\").cast(\"float\").isNotNull())\n",
    "    )\n",
    "    .filter(\n",
    "        (F.col(\"Num_Bank_Accounts\").cast(\"float\").isNotNull())\n",
    "    )\n",
    "    .filter(\n",
    "        (F.col(\"Num_Credit_Card\").cast(\"float\").isNotNull())\n",
    "    )\n",
    "    .filter(\n",
    "        (F.col(\"Interest_Rate\").cast(\"float\").isNotNull())\n",
    "    )\n",
    "    .filter(\n",
    "        (F.col(\"Num_of_Loan\").cast(\"float\").isNotNull())\n",
    "    )\n",
    "    .filter(\n",
    "        (F.col(\"Delay_from_due_date\").cast(\"float\").isNotNull())\n",
    "    )\n",
    "    .filter(\n",
    "        (F.col(\"Num_of_Delayed_Payment\").cast(\"float\").isNotNull())\n",
    "    )\n",
    "    .filter(\n",
    "        (F.col(\"Changed_Credit_Limit\").cast(\"float\").isNotNull())\n",
    "    )\n",
    "    .filter(\n",
    "        (F.col(\"Num_Credit_Inquiries\").cast(\"float\").isNotNull())\n",
    "    )\n",
    "    .filter(\n",
    "        (F.col(\"Outstanding_Debt\").cast(\"float\").isNotNull())\n",
    "    )\n",
    "    .filter(\n",
    "        (F.col(\"Credit_Utilization_Ratio\").cast(\"float\").isNotNull())\n",
    "    )\n",
    "    .filter(\n",
    "        (F.col(\"Total_EMI_per_month\").cast(\"float\").isNotNull())\n",
    "    )\n",
    "    .filter(\n",
    "        (F.col(\"Amount_invested_monthly\").cast(\"float\").isNotNull())\n",
    "    )\n",
    "    .filter(\n",
    "        (F.col(\"Monthly_Balance\").cast(\"float\").isNotNull())\n",
    "    )\n",
    ")\n",
    "rawDF_filtered.count()"
   ]
  },
  {
   "cell_type": "markdown",
   "metadata": {},
   "source": [
    "Seguro se puede optimizar pero es lo más sencillo que puedo hacer "
   ]
  },
  {
   "cell_type": "code",
   "execution_count": 102,
   "metadata": {},
   "outputs": [
    {
     "name": "stderr",
     "output_type": "stream",
     "text": [
      "[Stage 194:>                                                        (0 + 1) / 1]\r"
     ]
    },
    {
     "name": "stdout",
     "output_type": "stream",
     "text": [
      "+--------+---------------+\n",
      "|   Month|Clientes_unicos|\n",
      "+--------+---------------+\n",
      "|    July|           6738|\n",
      "|February|           6513|\n",
      "| January|           6626|\n",
      "|   March|           6589|\n",
      "|     May|           6629|\n",
      "|  August|           6665|\n",
      "|   April|           6654|\n",
      "|    June|           6653|\n",
      "+--------+---------------+\n",
      "\n"
     ]
    },
    {
     "name": "stderr",
     "output_type": "stream",
     "text": [
      "                                                                                \r"
     ]
    }
   ],
   "source": [
    "(\n",
    "    rawDF_filtered\n",
    "    .groupBy(\"Month\", \"Customer_ID\") \n",
    "    .count()\n",
    "    .groupBy(\"Month\")\n",
    "    .agg(F.countDistinct(\"Customer_ID\").alias(\"Clientes_unicos\"))\n",
    ").show()"
   ]
  },
  {
   "cell_type": "markdown",
   "metadata": {},
   "source": [
    "Nos vamos a quedar con los clientes que tienen todos los meses completos"
   ]
  },
  {
   "cell_type": "code",
   "execution_count": 103,
   "metadata": {},
   "outputs": [],
   "source": [
    "customers_with_8_months = (\n",
    "    rawDF_filtered\n",
    "    .groupBy(\"Customer_ID\")\n",
    "    .agg(F.collect_set(\"Month\").alias(\"Months\"))\n",
    "    .filter(F.size(\"Months\") == 8)\n",
    ")\n",
    "\n",
    "filtered_df = rawDF_filtered.join(\n",
    "    customers_with_8_months.select(\"Customer_ID\"),\n",
    "    on=\"Customer_ID\",\n",
    "    how=\"inner\"\n",
    ")"
   ]
  },
  {
   "cell_type": "code",
   "execution_count": null,
   "metadata": {},
   "outputs": [
    {
     "name": "stderr",
     "output_type": "stream",
     "text": [
      "[Stage 214:>                                                        (0 + 1) / 1]\r"
     ]
    },
    {
     "name": "stdout",
     "output_type": "stream",
     "text": [
      "+-----------+------+--------+-------+---+-----------+----------+-------------+---------------------+-----------------+---------------+-------------+-----------+------------------------------------------------------------------------------------------------------------------------------+-------------------+----------------------+--------------------+--------------------+----------+----------------+------------------------+----------------------+---------------------+-------------------+-----------------------+--------------------------------+------------------+------------+\n",
      "|Customer_ID|ID    |Month   |Name   |Age|SSN        |Occupation|Annual_Income|Monthly_Inhand_Salary|Num_Bank_Accounts|Num_Credit_Card|Interest_Rate|Num_of_Loan|Type_of_Loan                                                                                                                  |Delay_from_due_date|Num_of_Delayed_Payment|Changed_Credit_Limit|Num_Credit_Inquiries|Credit_Mix|Outstanding_Debt|Credit_Utilization_Ratio|Credit_History_Age    |Payment_of_Min_Amount|Total_EMI_per_month|Amount_invested_monthly|Payment_Behaviour               |Monthly_Balance   |Credit_Score|\n",
      "+-----------+------+--------+-------+---+-----------+----------+-------------+---------------------+-----------------+---------------+-------------+-----------+------------------------------------------------------------------------------------------------------------------------------+-------------------+----------------------+--------------------+--------------------+----------+----------------+------------------------+----------------------+---------------------+-------------------+-----------------------+--------------------------------+------------------+------------+\n",
      "|CUS_0x3e85 |0x20d6|January |Julienz|24 |863-16-6413|Musician  |142113.96    |11903.83             |6                |4              |17           |3          |Payday Loan, Home Equity Loan, and Personal Loan                                                                              |16                 |12                    |18.1                |8.0                 |Standard  |1037.68         |38.43515845054853       |22 Years and 3 Months |Yes                  |224.12213859526557 |247.7038275977354      |High_spent_Large_value_payments |958.557033806999  |Standard    |\n",
      "|CUS_0x3e85 |0x20d7|February|Julienz|24 |863-16-6413|Musician  |142113.96    |11903.83             |6                |4              |17           |3          |Payday Loan, Home Equity Loan, and Personal Loan                                                                              |22                 |14                    |18.1                |8.0                 |Standard  |1037.68         |41.190907977815904      |22 Years and 4 Months |Yes                  |224.12213859526557 |186.90976056255286     |High_spent_Large_value_payments |1019.3511008421815|Standard    |\n",
      "|CUS_0x3e85 |0x20d8|March   |Julienz|24 |863-16-6413|Musician  |142113.96    |11903.83             |6                |4              |17           |3          |Payday Loan, Home Equity Loan, and Personal Loan                                                                              |21                 |12                    |18.1                |8.0                 |Standard  |1037.68         |35.557667546567835      |22 Years and 5 Months |Yes                  |224.12213859526557 |303.75546268504786     |High_spent_Medium_value_payments|912.5053987196866 |Standard    |\n",
      "|CUS_0x3e85 |0x20d9|April   |Julienz|25 |863-16-6413|Musician  |142113.96    |11903.83             |6                |4              |17           |3          |Payday Loan, Home Equity Loan, and Personal Loan                                                                              |21                 |13                    |18.1                |9.0                 |_         |1037.68         |41.532137042097844      |22 Years and 6 Months |NM                   |224.12213859526557 |539.3393474064857      |Low_spent_Medium_value_payments |706.9215139982488 |Standard    |\n",
      "|CUS_0x3e85 |0x20da|May     |Julienz|25 |863-16-6413|Musician  |142113.96    |11903.83             |6                |4              |17           |3          |Payday Loan, Home Equity Loan, and Personal Loan                                                                              |21                 |12                    |18.1                |9.0                 |Standard  |1037.68         |38.115683177158616      |22 Years and 7 Months |NM                   |224.12213859526557 |716.3027905911829      |Low_spent_Large_value_payments  |519.9580708135517 |Standard    |\n",
      "|CUS_0x3e85 |0x20db|June    |NULL   |25 |863-16-6413|Musician  |142113.96    |11903.83             |6                |4              |17           |3          |Payday Loan, Home Equity Loan, and Personal Loan                                                                              |21                 |12                    |18.1                |9.0                 |_         |1037.68         |36.41980578912396       |22 Years and 8 Months |Yes                  |224.12213859526557 |442.26788352300895     |High_spent_Medium_value_payments|773.9929778817253 |Standard    |\n",
      "|CUS_0x3e85 |0x20dc|July    |Julienz|25 |863-16-6413|Musician  |142113.96    |11903.83             |6                |4              |17           |3          |Payday Loan, Home Equity Loan, and Personal Loan                                                                              |21                 |12                    |18.1                |9.0                 |Standard  |1037.68         |27.51389788794978       |22 Years and 9 Months |Yes                  |224.12213859526557 |389.75184821298484     |!@9#%8                          |846.5090131917495 |Standard    |\n",
      "|CUS_0x3e85 |0x20dd|August  |Julienz|25 |863-16-6413|Musician  |142113.96    |11903.83             |6                |4              |17           |3          |Payday Loan, Home Equity Loan, and Personal Loan                                                                              |18                 |12                    |18.1                |9.0                 |Standard  |1037.68         |30.667485965080882      |22 Years and 10 Months|Yes                  |224.12213859526557 |104.15742676324274     |High_spent_Large_value_payments |1102.1034346414917|Standard    |\n",
      "|CUS_0xab00 |0x217e|January |Markx  |18 |468-20-7719|Manager   |31633.54     |2930.1283333333336   |1                |5              |8            |3          |Credit-Builder Loan, Personal Loan, and Mortgage Loan                                                                         |8                  |8                     |9.7                 |3.0                 |Good      |846.45          |25.486023329452838      |21 Years and 8 Months |No                   |50.76844004205578  |200.90420000578888     |Low_spent_Small_value_payments  |331.34019328548874|Poor        |\n",
      "|CUS_0xab00 |0x217f|February|Markx  |18 |468-20-7719|Manager   |31633.54     |2930.1283333333336   |1                |5              |8            |3          |Credit-Builder Loan, Personal Loan, and Mortgage Loan                                                                         |8                  |8                     |9.7                 |3.0                 |Good      |846.45          |29.29859995597252       |NA                    |No                   |50.76844004205578  |78.20804976697478      |High_spent_Small_value_payments |424.0363435243028 |Poor        |\n",
      "|CUS_0xab00 |0x2180|March   |NULL   |18 |468-20-7719|Manager   |31633.54     |2930.1283333333336   |1                |5              |8            |3          |Credit-Builder Loan, Personal Loan, and Mortgage Loan                                                                         |8                  |5                     |9.7                 |3.0                 |Good      |846.45          |26.31214177174234       |21 Years and 10 Months|No                   |50.76844004205578  |216.6493582592965      |Low_spent_Large_value_payments  |295.5950350319811 |Standard    |\n",
      "|CUS_0xab00 |0x2181|April   |NULL   |18 |468-20-7719|Manager   |31633.54     |2930.1283333333336   |1                |5              |8            |3          |Credit-Builder Loan, Personal Loan, and Mortgage Loan                                                                         |8                  |7                     |9.7                 |3.0                 |Good      |846.45          |39.26840999582976       |21 Years and 11 Months|No                   |50.76844004205578  |196.4863174539641      |High_spent_Small_value_payments |305.7580758373135 |Standard    |\n",
      "|CUS_0xab00 |0x2182|May     |Markx  |18 |468-20-7719|Manager   |31633.54     |2930.1283333333336   |1                |5              |8            |3          |Credit-Builder Loan, Personal Loan, and Mortgage Loan                                                                         |3                  |7                     |9.7                 |3.0                 |_         |846.45          |29.310408247978174      |22 Years and 0 Months |No                   |50.76844004205578  |159.6148515699002      |Low_spent_Small_value_payments  |372.6295417213775 |Poor        |\n",
      "|CUS_0xab00 |0x2183|June    |Markx  |18 |468-20-7719|Manager   |31633.54     |2930.1283333333336   |1                |5              |8            |3          |Credit-Builder Loan, Personal Loan, and Mortgage Loan                                                                         |8                  |5                     |9.7                 |3.0                 |Good      |846.45          |38.26046773145267       |22 Years and 1 Months |No                   |50.76844004205578  |174.00000906126056     |Low_spent_Small_value_payments  |358.2443842300171 |Poor        |\n",
      "|CUS_0xab00 |0x2184|July    |Markx  |18 |468-20-7719|Manager   |31633.54     |2930.1283333333336   |1                |5              |8            |3          |Credit-Builder Loan, Personal Loan, and Mortgage Loan                                                                         |6                  |6                     |12.7                |4.0                 |Good      |846.45          |37.934664745348684      |22 Years and 2 Months |No                   |50.76844004205578  |275.759794928842       |Low_spent_Medium_value_payments |246.4845983624356 |Poor        |\n",
      "|CUS_0xab00 |0x2185|August  |Markx  |18 |468-20-7719|Manager   |31633.54     |2930.1283333333336   |1                |5              |8            |3          |Credit-Builder Loan, Personal Loan, and Mortgage Loan                                                                         |8                  |7                     |9.7                 |4.0                 |Good      |846.45          |35.003637556931764      |22 Years and 3 Months |NM                   |50.76844004205578  |136.63816954931966     |High_spent_Small_value_payments |365.60622374195793|Poor        |\n",
      "|CUS_0x3f47 |0x245a|January |Ridleyc|34 |393-00-8916|Musician  |53071.47     |4656.6225            |8                |5              |5645         |8          |Student Loan, Student Loan, Mortgage Loan, Payday Loan, Home Equity Loan, Mortgage Loan, Credit-Builder Loan, and Student Loan|44                 |19                    |8.05                |10.0                |Bad       |1740.38         |36.26215985508929       |NA                    |NM                   |208.4834480479053  |60.72245822211172      |!@9#%8                          |446.45634372998296|Poor        |\n",
      "|CUS_0x3f47 |0x245b|February|NULL   |34 |#F%$D@*&8  |Musician  |53071.47     |4656.6225            |8                |5              |21           |8          |Student Loan, Student Loan, Mortgage Loan, Payday Loan, Home Equity Loan, Mortgage Loan, Credit-Builder Loan, and Student Loan|44                 |17                    |4.050000000000002   |10.0                |_         |1740.38         |29.99882275038287       |18 Years and 8 Months |Yes                  |208.4834480479053  |77.5710920616907       |High_spent_Medium_value_payments|429.60770989040407|Poor        |\n",
      "|CUS_0x3f47 |0x245c|March   |Ridleyc|34 |393-00-8916|Musician  |53071.47     |4656.6225            |8                |5              |21           |8          |Student Loan, Student Loan, Mortgage Loan, Payday Loan, Home Equity Loan, Mortgage Loan, Credit-Builder Loan, and Student Loan|49                 |19                    |8.05                |10.0                |Bad       |1740.38         |32.137392245001195      |18 Years and 9 Months |Yes                  |208.4834480479053  |451.5421441365231      |Low_spent_Small_value_payments  |95.63665781557164 |Poor        |\n",
      "|CUS_0x3f47 |0x245d|April   |Ridleyc|35 |393-00-8916|Musician  |53071.47     |4656.6225            |8                |5              |21           |8          |Student Loan, Student Loan, Mortgage Loan, Payday Loan, Home Equity Loan, Mortgage Loan, Credit-Builder Loan, and Student Loan|44                 |19                    |8.05                |10.0                |Bad       |1740.38         |25.45298987914012       |18 Years and 10 Months|Yes                  |67482.0            |76.30682513210726      |High_spent_Large_value_payments |420.8719768199875 |Standard    |\n",
      "+-----------+------+--------+-------+---+-----------+----------+-------------+---------------------+-----------------+---------------+-------------+-----------+------------------------------------------------------------------------------------------------------------------------------+-------------------+----------------------+--------------------+--------------------+----------+----------------+------------------------+----------------------+---------------------+-------------------+-----------------------+--------------------------------+------------------+------------+\n",
      "only showing top 20 rows\n",
      "\n"
     ]
    },
    {
     "name": "stderr",
     "output_type": "stream",
     "text": [
      "                                                                                \r"
     ]
    }
   ],
   "source": [
    "filtered_df.show(truncate=False)"
   ]
  },
  {
   "cell_type": "markdown",
   "metadata": {},
   "source": [
    "Validar datos"
   ]
  },
  {
   "cell_type": "markdown",
   "metadata": {},
   "source": [
    "¿Cuántos registros por mes hay?"
   ]
  },
  {
   "cell_type": "code",
   "execution_count": 105,
   "metadata": {},
   "outputs": [
    {
     "name": "stderr",
     "output_type": "stream",
     "text": [
      "[Stage 207:>                                                        (0 + 1) / 1]\r"
     ]
    },
    {
     "name": "stdout",
     "output_type": "stream",
     "text": [
      "+--------+---------------+\n",
      "|   Month|Clientes_unicos|\n",
      "+--------+---------------+\n",
      "|    July|             73|\n",
      "|February|             73|\n",
      "| January|             73|\n",
      "|   March|             73|\n",
      "|     May|             73|\n",
      "|  August|             73|\n",
      "|   April|             73|\n",
      "|    June|             73|\n",
      "+--------+---------------+\n",
      "\n"
     ]
    },
    {
     "name": "stderr",
     "output_type": "stream",
     "text": [
      "                                                                                \r"
     ]
    }
   ],
   "source": [
    "(\n",
    "    filtered_df\n",
    "    .groupBy(\"Month\", \"Customer_ID\") \n",
    "    .count()\n",
    "    .groupBy(\"Month\")\n",
    "    .agg(F.countDistinct(\"Customer_ID\").alias(\"Clientes_unicos\"))\n",
    ").show()"
   ]
  },
  {
   "cell_type": "markdown",
   "metadata": {},
   "source": [
    "Sólo me quedaré con las columnas que me hacen algo de sentido para procesarlos fácilmente. Para eso se requiere de negocio. Para el resto de las variables numéricas lo que haría es quitar aquellos que estén fuera del IQR por ejemplo, también checar la distribución etc. Pero por tiempo lo dejaré hasta aquí.\n",
    "\n",
    "La idea es al menos garantizar que tengo el mismo cliente durante todo el tiempo de análisis."
   ]
  },
  {
   "cell_type": "markdown",
   "metadata": {},
   "source": [
    "Variables que no se procesaran pero son importantes:\n",
    "\n",
    "`Type_of_Loan` Es importante pero como son varias las que están en un arreglo tardaría en procesarlo, así que no la consideraré.\n",
    "\n",
    "`Credit_Mix` Se elimina por que hay muchos faltantes.\n",
    "\n",
    "`Credit_History_Age` Se elimina por practicidad, pero se puede extraer buena información procesandola.\n",
    "\n",
    "`Payment_Behaviour` Se dejara para pruebas.\n",
    "\n",
    "Se podría considerar la nulidad del 80% pero no se considerará por tiempo.\n"
   ]
  },
  {
   "cell_type": "code",
   "execution_count": null,
   "metadata": {},
   "outputs": [],
   "source": [
    "Data type string of column Annual_Income is not supported.\n",
    "Data type string of column Num_of_Loan is not supported.\n",
    "Data type string of column Num_of_Delayed_Payment is not supported.\n",
    "Data type string of column Changed_Credit_Limit is not supported.\n",
    "Data type string of column Outstanding_Debt is not supported.\n",
    "Data type string of column Amount_invested_monthly is not supported.\n",
    "Data type string of column Monthly_Balance is not supported."
   ]
  },
  {
   "cell_type": "code",
   "execution_count": 178,
   "metadata": {},
   "outputs": [
    {
     "name": "stderr",
     "output_type": "stream",
     "text": [
      "[Stage 306:>                                                        (0 + 1) / 1]\r"
     ]
    },
    {
     "name": "stdout",
     "output_type": "stream",
     "text": [
      "+-----------+--------+---+----------+-------------+---------------------+-----------------+---------------+-------------+-----------+-------------------+----------------------+--------------------+--------------------+----------------+------------------------+---------------------+-------------------+-----------------------+--------------------+------------------+------------+-------------+-----------+----------------------+--------------------+----------------+-----------------------+---------------+----+\n",
      "|Customer_ID|   Month|Age|Occupation|Annual_Income|Monthly_Inhand_Salary|Num_Bank_Accounts|Num_Credit_Card|Interest_Rate|Num_of_Loan|Delay_from_due_date|Num_of_Delayed_Payment|Changed_Credit_Limit|Num_Credit_Inquiries|Outstanding_Debt|Credit_Utilization_Ratio|Payment_of_Min_Amount|Total_EMI_per_month|Amount_invested_monthly|   Payment_Behaviour|   Monthly_Balance|Credit_Score|Annual_Income|Num_of_Loan|Num_of_Delayed_Payment|Changed_Credit_Limit|Outstanding_Debt|Amount_invested_monthly|Monthly_Balance| Age|\n",
      "+-----------+--------+---+----------+-------------+---------------------+-----------------+---------------+-------------+-----------+-------------------+----------------------+--------------------+--------------------+----------------+------------------------+---------------------+-------------------+-----------------------+--------------------+------------------+------------+-------------+-----------+----------------------+--------------------+----------------+-----------------------+---------------+----+\n",
      "| CUS_0x3e85| January| 24|  Musician|    142113.96|             11903.83|                6|              4|           17|          3|                 16|                    12|                18.1|                 8.0|         1037.68|       38.43515845054853|                  Yes| 224.12213859526557|      247.7038275977354|High_spent_Large_...|  958.557033806999|    Standard|    142113.95|        3.0|                  12.0|                18.1|         1037.68|              247.70383|        958.557|24.0|\n",
      "| CUS_0x3e85|February| 24|  Musician|    142113.96|             11903.83|                6|              4|           17|          3|                 22|                    14|                18.1|                 8.0|         1037.68|      41.190907977815904|                  Yes| 224.12213859526557|     186.90976056255286|High_spent_Large_...|1019.3511008421815|    Standard|    142113.95|        3.0|                  14.0|                18.1|         1037.68|              186.90976|      1019.3511|24.0|\n",
      "| CUS_0x3e85|   March| 24|  Musician|    142113.96|             11903.83|                6|              4|           17|          3|                 21|                    12|                18.1|                 8.0|         1037.68|      35.557667546567835|                  Yes| 224.12213859526557|     303.75546268504786|High_spent_Medium...| 912.5053987196866|    Standard|    142113.95|        3.0|                  12.0|                18.1|         1037.68|              303.75546|       912.5054|24.0|\n",
      "| CUS_0x3e85|   April| 25|  Musician|    142113.96|             11903.83|                6|              4|           17|          3|                 21|                    13|                18.1|                 9.0|         1037.68|      41.532137042097844|                   NM| 224.12213859526557|      539.3393474064857|Low_spent_Medium_...| 706.9215139982488|    Standard|    142113.95|        3.0|                  13.0|                18.1|         1037.68|              539.33936|       706.9215|25.0|\n",
      "| CUS_0x3e85|     May| 25|  Musician|    142113.96|             11903.83|                6|              4|           17|          3|                 21|                    12|                18.1|                 9.0|         1037.68|      38.115683177158616|                   NM| 224.12213859526557|      716.3027905911829|Low_spent_Large_v...| 519.9580708135517|    Standard|    142113.95|        3.0|                  12.0|                18.1|         1037.68|               716.3028|      519.95807|25.0|\n",
      "+-----------+--------+---+----------+-------------+---------------------+-----------------+---------------+-------------+-----------+-------------------+----------------------+--------------------+--------------------+----------------+------------------------+---------------------+-------------------+-----------------------+--------------------+------------------+------------+-------------+-----------+----------------------+--------------------+----------------+-----------------------+---------------+----+\n",
      "only showing top 5 rows\n",
      "\n"
     ]
    },
    {
     "name": "stderr",
     "output_type": "stream",
     "text": [
      "                                                                                \r"
     ]
    }
   ],
   "source": [
    "df_clean = (\n",
    "    filtered_df\n",
    "    .drop(\"ID\", \"Name\", \"SSN\", \"Type_of_Loan\", \"Credit_Mix\", \"Credit_History_Age\")\n",
    "    .select(\n",
    "        \"*\",\n",
    "        (F.col(\"Annual_Income\").cast(\"float\")).alias(\"Annual_Income\"),\n",
    "        (F.col(\"Num_of_Loan\").cast(\"float\")).alias(\"Num_of_Loan\"),\n",
    "        (F.col(\"Num_of_Delayed_Payment\").cast(\"float\")).alias(\"Num_of_Delayed_Payment\"),\n",
    "        (F.col(\"Changed_Credit_Limit\").cast(\"float\")).alias(\"Changed_Credit_Limit\"),\n",
    "        (F.col(\"Outstanding_Debt\").cast(\"float\")).alias(\"Outstanding_Debt\"),\n",
    "        (F.col(\"Amount_invested_monthly\").cast(\"float\")).alias(\"Amount_invested_monthly\"),\n",
    "        (F.col(\"Monthly_Balance\").cast(\"float\")).alias(\"Monthly_Balance\"),\n",
    "        (F.col(\"Age\").cast(\"float\")).alias(\"Age\")\n",
    "    )\n",
    ")\n",
    "df_clean.show(5)"
   ]
  },
  {
   "cell_type": "code",
   "execution_count": 179,
   "metadata": {},
   "outputs": [
    {
     "name": "stderr",
     "output_type": "stream",
     "text": [
      "[Stage 310:>                                                        (0 + 1) / 1]\r"
     ]
    },
    {
     "name": "stdout",
     "output_type": "stream",
     "text": [
      "+-----------+--------+----+----------+-------------+---------------------+-----------------+---------------+-------------+-----------+-------------------+----------------------+--------------------+--------------------+----------------+------------------------+---------------------+-------------------+-----------------------+--------------------+---------------+------------+\n",
      "|Customer_ID|   Month| Age|Occupation|Annual_Income|Monthly_Inhand_Salary|Num_Bank_Accounts|Num_Credit_Card|Interest_Rate|Num_of_Loan|Delay_from_due_date|Num_of_Delayed_Payment|Changed_Credit_Limit|Num_Credit_Inquiries|Outstanding_Debt|Credit_Utilization_Ratio|Payment_of_Min_Amount|Total_EMI_per_month|Amount_invested_monthly|   Payment_Behaviour|Monthly_Balance|Credit_Score|\n",
      "+-----------+--------+----+----------+-------------+---------------------+-----------------+---------------+-------------+-----------+-------------------+----------------------+--------------------+--------------------+----------------+------------------------+---------------------+-------------------+-----------------------+--------------------+---------------+------------+\n",
      "| CUS_0x3e85| January|24.0|  Musician|    142113.95|             11903.83|                6|              4|           17|        3.0|                 16|                  12.0|                18.1|                 8.0|         1037.68|       38.43515845054853|                  Yes| 224.12213859526557|              247.70383|High_spent_Large_...|        958.557|    Standard|\n",
      "| CUS_0x3e85|February|24.0|  Musician|    142113.95|             11903.83|                6|              4|           17|        3.0|                 22|                  14.0|                18.1|                 8.0|         1037.68|      41.190907977815904|                  Yes| 224.12213859526557|              186.90976|High_spent_Large_...|      1019.3511|    Standard|\n",
      "| CUS_0x3e85|   March|24.0|  Musician|    142113.95|             11903.83|                6|              4|           17|        3.0|                 21|                  12.0|                18.1|                 8.0|         1037.68|      35.557667546567835|                  Yes| 224.12213859526557|              303.75546|High_spent_Medium...|       912.5054|    Standard|\n",
      "| CUS_0x3e85|   April|25.0|  Musician|    142113.95|             11903.83|                6|              4|           17|        3.0|                 21|                  13.0|                18.1|                 9.0|         1037.68|      41.532137042097844|                   NM| 224.12213859526557|              539.33936|Low_spent_Medium_...|       706.9215|    Standard|\n",
      "| CUS_0x3e85|     May|25.0|  Musician|    142113.95|             11903.83|                6|              4|           17|        3.0|                 21|                  12.0|                18.1|                 9.0|         1037.68|      38.115683177158616|                   NM| 224.12213859526557|               716.3028|Low_spent_Large_v...|      519.95807|    Standard|\n",
      "+-----------+--------+----+----------+-------------+---------------------+-----------------+---------------+-------------+-----------+-------------------+----------------------+--------------------+--------------------+----------------+------------------------+---------------------+-------------------+-----------------------+--------------------+---------------+------------+\n",
      "only showing top 5 rows\n",
      "\n"
     ]
    },
    {
     "name": "stderr",
     "output_type": "stream",
     "text": [
      "                                                                                \r"
     ]
    }
   ],
   "source": [
    "df_clean = filtered_df.drop(\"ID\", \"Name\", \"SSN\", \"Type_of_Loan\", \"Credit_Mix\", \"Credit_History_Age\")\n",
    "\n",
    "df_clean = df_clean.withColumn(\"Annual_Income\", F.col(\"Annual_Income\").cast(\"float\"))\n",
    "df_clean = df_clean.withColumn(\"Num_of_Loan\", F.col(\"Num_of_Loan\").cast(\"float\"))\n",
    "df_clean = df_clean.withColumn(\"Num_of_Delayed_Payment\", F.col(\"Num_of_Delayed_Payment\").cast(\"float\"))\n",
    "df_clean = df_clean.withColumn(\"Changed_Credit_Limit\", F.col(\"Changed_Credit_Limit\").cast(\"float\"))\n",
    "df_clean = df_clean.withColumn(\"Outstanding_Debt\", F.col(\"Outstanding_Debt\").cast(\"float\"))\n",
    "df_clean = df_clean.withColumn(\"Amount_invested_monthly\", F.col(\"Amount_invested_monthly\").cast(\"float\"))\n",
    "df_clean = df_clean.withColumn(\"Monthly_Balance\", F.col(\"Monthly_Balance\").cast(\"float\"))\n",
    "df_clean = df_clean.withColumn(\"Age\", F.col(\"Age\").cast(\"float\"))\n",
    "\n",
    "df_clean.show(5)\n"
   ]
  },
  {
   "cell_type": "code",
   "execution_count": 180,
   "metadata": {},
   "outputs": [
    {
     "name": "stdout",
     "output_type": "stream",
     "text": [
      "root\n",
      " |-- Customer_ID: string (nullable = true)\n",
      " |-- Month: string (nullable = true)\n",
      " |-- Age: float (nullable = true)\n",
      " |-- Occupation: string (nullable = true)\n",
      " |-- Annual_Income: float (nullable = true)\n",
      " |-- Monthly_Inhand_Salary: double (nullable = true)\n",
      " |-- Num_Bank_Accounts: integer (nullable = true)\n",
      " |-- Num_Credit_Card: integer (nullable = true)\n",
      " |-- Interest_Rate: integer (nullable = true)\n",
      " |-- Num_of_Loan: float (nullable = true)\n",
      " |-- Delay_from_due_date: integer (nullable = true)\n",
      " |-- Num_of_Delayed_Payment: float (nullable = true)\n",
      " |-- Changed_Credit_Limit: float (nullable = true)\n",
      " |-- Num_Credit_Inquiries: double (nullable = true)\n",
      " |-- Outstanding_Debt: float (nullable = true)\n",
      " |-- Credit_Utilization_Ratio: double (nullable = true)\n",
      " |-- Payment_of_Min_Amount: string (nullable = true)\n",
      " |-- Total_EMI_per_month: double (nullable = true)\n",
      " |-- Amount_invested_monthly: float (nullable = true)\n",
      " |-- Payment_Behaviour: string (nullable = true)\n",
      " |-- Monthly_Balance: float (nullable = true)\n",
      " |-- Credit_Score: string (nullable = true)\n",
      "\n"
     ]
    }
   ],
   "source": [
    "df_clean.printSchema()"
   ]
  },
  {
   "cell_type": "markdown",
   "metadata": {},
   "source": [
    "# Creación del pipeline del modelo."
   ]
  },
  {
   "cell_type": "code",
   "execution_count": 181,
   "metadata": {},
   "outputs": [],
   "source": [
    "from pyspark.ml import Pipeline\n",
    "from pyspark.ml.feature import StringIndexer, VectorAssembler\n",
    "\n",
    "from pyspark.ml.classification import DecisionTreeClassifier"
   ]
  },
  {
   "cell_type": "markdown",
   "metadata": {},
   "source": [
    "Probablemente al poner aleatorio todo, no me llevaría los cientes correctamente, pero para fines de prueba lo dejaré así.\n",
    "\n",
    "Lo correcto es tomar el 80 % de clientes únicos y probar con el resto de los 20"
   ]
  },
  {
   "cell_type": "code",
   "execution_count": 182,
   "metadata": {},
   "outputs": [],
   "source": [
    "df_train, df_test = df_clean.randomSplit([0.8,0.2], seed=43)\n"
   ]
  },
  {
   "cell_type": "markdown",
   "metadata": {},
   "source": [
    "### Transformación de los datos\n",
    "\n",
    "Cuando utilizamos árboles de decisión no debemos utilizar one-hot enconding para las variables categóricas. Sin embargo, si es necesario codificarlas como variables categóricas numéricas."
   ]
  },
  {
   "cell_type": "code",
   "execution_count": 183,
   "metadata": {},
   "outputs": [],
   "source": [
    "#--Si la columna es de tipo texto, la designamos como categórica\n",
    "categoricalCols = [field for (field, dataType) in df_train.dtypes if dataType == \"string\"]\n",
    "\n",
    "#--creamos los nombres de salida\n",
    "indexOutputCols = [x + \"Index\" for x in categoricalCols]\n",
    "\n",
    "#--definimos nuestro transformador\n",
    "stringIndexer = StringIndexer(inputCols=categoricalCols,\n",
    "                              outputCols=indexOutputCols,\n",
    "                              handleInvalid=\"skip\")"
   ]
  },
  {
   "cell_type": "code",
   "execution_count": 184,
   "metadata": {},
   "outputs": [],
   "source": [
    "#--selecionamos las columnas numéricas excepto la variable respuesta\n",
    "numericCols = [field for (field, dataType) in df_train.dtypes if ((dataType == \"double\") & (field != \"price\"))]\n",
    "\n",
    "#--combinamos los nombres de variables categóricas (salida stringIndexer) y las numéricas\n",
    "assemblerInputs = indexOutputCols + numericCols\n",
    "\n",
    "#--se combinan todos los atributos en una sola columna\n",
    "vecAssembler = VectorAssembler(inputCols=assemblerInputs, outputCol=\"features\")"
   ]
  },
  {
   "cell_type": "markdown",
   "metadata": {},
   "source": [
    "## Árbol de decisión\n",
    "\n",
    "El primer algoritmo que vamos a entrenar, es un árbol de decisión"
   ]
  },
  {
   "cell_type": "code",
   "execution_count": 185,
   "metadata": {},
   "outputs": [],
   "source": [
    "#--definimos nuestro estimador\n",
    "dt_model = DecisionTreeClassifier(labelCol=\"Credit_Score\")"
   ]
  },
  {
   "cell_type": "code",
   "execution_count": 186,
   "metadata": {},
   "outputs": [
    {
     "name": "stderr",
     "output_type": "stream",
     "text": [
      "                                                                                \r"
     ]
    },
    {
     "ename": "IllegalArgumentException",
     "evalue": "requirement failed: Column Credit_Score must be of type numeric but was actually of type string.",
     "output_type": "error",
     "traceback": [
      "\u001b[0;31m---------------------------------------------------------------------------\u001b[0m",
      "\u001b[0;31mIllegalArgumentException\u001b[0m                  Traceback (most recent call last)",
      "Cell \u001b[0;32mIn[186], line 7\u001b[0m\n\u001b[1;32m      2\u001b[0m pipeline \u001b[38;5;241m=\u001b[39m Pipeline(stages\u001b[38;5;241m=\u001b[39m[stringIndexer,\n\u001b[1;32m      3\u001b[0m                             vecAssembler,\n\u001b[1;32m      4\u001b[0m                             dt_model])\n\u001b[1;32m      6\u001b[0m \u001b[38;5;66;03m#--lo entrenamos\u001b[39;00m\n\u001b[0;32m----> 7\u001b[0m pipelineModel \u001b[38;5;241m=\u001b[39m pipeline\u001b[38;5;241m.\u001b[39mfit(df_train)\n",
      "File \u001b[0;32m~/anaconda3/envs/mlbigdata/lib/python3.11/site-packages/pyspark/ml/base.py:205\u001b[0m, in \u001b[0;36mEstimator.fit\u001b[0;34m(self, dataset, params)\u001b[0m\n\u001b[1;32m    203\u001b[0m         \u001b[38;5;28;01mreturn\u001b[39;00m \u001b[38;5;28mself\u001b[39m\u001b[38;5;241m.\u001b[39mcopy(params)\u001b[38;5;241m.\u001b[39m_fit(dataset)\n\u001b[1;32m    204\u001b[0m     \u001b[38;5;28;01melse\u001b[39;00m:\n\u001b[0;32m--> 205\u001b[0m         \u001b[38;5;28;01mreturn\u001b[39;00m \u001b[38;5;28mself\u001b[39m\u001b[38;5;241m.\u001b[39m_fit(dataset)\n\u001b[1;32m    206\u001b[0m \u001b[38;5;28;01melse\u001b[39;00m:\n\u001b[1;32m    207\u001b[0m     \u001b[38;5;28;01mraise\u001b[39;00m \u001b[38;5;167;01mTypeError\u001b[39;00m(\n\u001b[1;32m    208\u001b[0m         \u001b[38;5;124m\"\u001b[39m\u001b[38;5;124mParams must be either a param map or a list/tuple of param maps, \u001b[39m\u001b[38;5;124m\"\u001b[39m\n\u001b[1;32m    209\u001b[0m         \u001b[38;5;124m\"\u001b[39m\u001b[38;5;124mbut got \u001b[39m\u001b[38;5;132;01m%s\u001b[39;00m\u001b[38;5;124m.\u001b[39m\u001b[38;5;124m\"\u001b[39m \u001b[38;5;241m%\u001b[39m \u001b[38;5;28mtype\u001b[39m(params)\n\u001b[1;32m    210\u001b[0m     )\n",
      "File \u001b[0;32m~/anaconda3/envs/mlbigdata/lib/python3.11/site-packages/pyspark/ml/pipeline.py:134\u001b[0m, in \u001b[0;36mPipeline._fit\u001b[0;34m(self, dataset)\u001b[0m\n\u001b[1;32m    132\u001b[0m     dataset \u001b[38;5;241m=\u001b[39m stage\u001b[38;5;241m.\u001b[39mtransform(dataset)\n\u001b[1;32m    133\u001b[0m \u001b[38;5;28;01melse\u001b[39;00m:  \u001b[38;5;66;03m# must be an Estimator\u001b[39;00m\n\u001b[0;32m--> 134\u001b[0m     model \u001b[38;5;241m=\u001b[39m stage\u001b[38;5;241m.\u001b[39mfit(dataset)\n\u001b[1;32m    135\u001b[0m     transformers\u001b[38;5;241m.\u001b[39mappend(model)\n\u001b[1;32m    136\u001b[0m     \u001b[38;5;28;01mif\u001b[39;00m i \u001b[38;5;241m<\u001b[39m indexOfLastEstimator:\n",
      "File \u001b[0;32m~/anaconda3/envs/mlbigdata/lib/python3.11/site-packages/pyspark/ml/base.py:205\u001b[0m, in \u001b[0;36mEstimator.fit\u001b[0;34m(self, dataset, params)\u001b[0m\n\u001b[1;32m    203\u001b[0m         \u001b[38;5;28;01mreturn\u001b[39;00m \u001b[38;5;28mself\u001b[39m\u001b[38;5;241m.\u001b[39mcopy(params)\u001b[38;5;241m.\u001b[39m_fit(dataset)\n\u001b[1;32m    204\u001b[0m     \u001b[38;5;28;01melse\u001b[39;00m:\n\u001b[0;32m--> 205\u001b[0m         \u001b[38;5;28;01mreturn\u001b[39;00m \u001b[38;5;28mself\u001b[39m\u001b[38;5;241m.\u001b[39m_fit(dataset)\n\u001b[1;32m    206\u001b[0m \u001b[38;5;28;01melse\u001b[39;00m:\n\u001b[1;32m    207\u001b[0m     \u001b[38;5;28;01mraise\u001b[39;00m \u001b[38;5;167;01mTypeError\u001b[39;00m(\n\u001b[1;32m    208\u001b[0m         \u001b[38;5;124m\"\u001b[39m\u001b[38;5;124mParams must be either a param map or a list/tuple of param maps, \u001b[39m\u001b[38;5;124m\"\u001b[39m\n\u001b[1;32m    209\u001b[0m         \u001b[38;5;124m\"\u001b[39m\u001b[38;5;124mbut got \u001b[39m\u001b[38;5;132;01m%s\u001b[39;00m\u001b[38;5;124m.\u001b[39m\u001b[38;5;124m\"\u001b[39m \u001b[38;5;241m%\u001b[39m \u001b[38;5;28mtype\u001b[39m(params)\n\u001b[1;32m    210\u001b[0m     )\n",
      "File \u001b[0;32m~/anaconda3/envs/mlbigdata/lib/python3.11/site-packages/pyspark/ml/wrapper.py:381\u001b[0m, in \u001b[0;36mJavaEstimator._fit\u001b[0;34m(self, dataset)\u001b[0m\n\u001b[1;32m    380\u001b[0m \u001b[38;5;28;01mdef\u001b[39;00m \u001b[38;5;21m_fit\u001b[39m(\u001b[38;5;28mself\u001b[39m, dataset: DataFrame) \u001b[38;5;241m-\u001b[39m\u001b[38;5;241m>\u001b[39m JM:\n\u001b[0;32m--> 381\u001b[0m     java_model \u001b[38;5;241m=\u001b[39m \u001b[38;5;28mself\u001b[39m\u001b[38;5;241m.\u001b[39m_fit_java(dataset)\n\u001b[1;32m    382\u001b[0m     model \u001b[38;5;241m=\u001b[39m \u001b[38;5;28mself\u001b[39m\u001b[38;5;241m.\u001b[39m_create_model(java_model)\n\u001b[1;32m    383\u001b[0m     \u001b[38;5;28;01mreturn\u001b[39;00m \u001b[38;5;28mself\u001b[39m\u001b[38;5;241m.\u001b[39m_copyValues(model)\n",
      "File \u001b[0;32m~/anaconda3/envs/mlbigdata/lib/python3.11/site-packages/pyspark/ml/wrapper.py:378\u001b[0m, in \u001b[0;36mJavaEstimator._fit_java\u001b[0;34m(self, dataset)\u001b[0m\n\u001b[1;32m    375\u001b[0m \u001b[38;5;28;01massert\u001b[39;00m \u001b[38;5;28mself\u001b[39m\u001b[38;5;241m.\u001b[39m_java_obj \u001b[38;5;129;01mis\u001b[39;00m \u001b[38;5;129;01mnot\u001b[39;00m \u001b[38;5;28;01mNone\u001b[39;00m\n\u001b[1;32m    377\u001b[0m \u001b[38;5;28mself\u001b[39m\u001b[38;5;241m.\u001b[39m_transfer_params_to_java()\n\u001b[0;32m--> 378\u001b[0m \u001b[38;5;28;01mreturn\u001b[39;00m \u001b[38;5;28mself\u001b[39m\u001b[38;5;241m.\u001b[39m_java_obj\u001b[38;5;241m.\u001b[39mfit(dataset\u001b[38;5;241m.\u001b[39m_jdf)\n",
      "File \u001b[0;32m~/anaconda3/envs/mlbigdata/lib/python3.11/site-packages/py4j/java_gateway.py:1322\u001b[0m, in \u001b[0;36mJavaMember.__call__\u001b[0;34m(self, *args)\u001b[0m\n\u001b[1;32m   1316\u001b[0m command \u001b[38;5;241m=\u001b[39m proto\u001b[38;5;241m.\u001b[39mCALL_COMMAND_NAME \u001b[38;5;241m+\u001b[39m\\\n\u001b[1;32m   1317\u001b[0m     \u001b[38;5;28mself\u001b[39m\u001b[38;5;241m.\u001b[39mcommand_header \u001b[38;5;241m+\u001b[39m\\\n\u001b[1;32m   1318\u001b[0m     args_command \u001b[38;5;241m+\u001b[39m\\\n\u001b[1;32m   1319\u001b[0m     proto\u001b[38;5;241m.\u001b[39mEND_COMMAND_PART\n\u001b[1;32m   1321\u001b[0m answer \u001b[38;5;241m=\u001b[39m \u001b[38;5;28mself\u001b[39m\u001b[38;5;241m.\u001b[39mgateway_client\u001b[38;5;241m.\u001b[39msend_command(command)\n\u001b[0;32m-> 1322\u001b[0m return_value \u001b[38;5;241m=\u001b[39m get_return_value(\n\u001b[1;32m   1323\u001b[0m     answer, \u001b[38;5;28mself\u001b[39m\u001b[38;5;241m.\u001b[39mgateway_client, \u001b[38;5;28mself\u001b[39m\u001b[38;5;241m.\u001b[39mtarget_id, \u001b[38;5;28mself\u001b[39m\u001b[38;5;241m.\u001b[39mname)\n\u001b[1;32m   1325\u001b[0m \u001b[38;5;28;01mfor\u001b[39;00m temp_arg \u001b[38;5;129;01min\u001b[39;00m temp_args:\n\u001b[1;32m   1326\u001b[0m     \u001b[38;5;28;01mif\u001b[39;00m \u001b[38;5;28mhasattr\u001b[39m(temp_arg, \u001b[38;5;124m\"\u001b[39m\u001b[38;5;124m_detach\u001b[39m\u001b[38;5;124m\"\u001b[39m):\n",
      "File \u001b[0;32m~/anaconda3/envs/mlbigdata/lib/python3.11/site-packages/pyspark/errors/exceptions/captured.py:175\u001b[0m, in \u001b[0;36mcapture_sql_exception.<locals>.deco\u001b[0;34m(*a, **kw)\u001b[0m\n\u001b[1;32m    171\u001b[0m converted \u001b[38;5;241m=\u001b[39m convert_exception(e\u001b[38;5;241m.\u001b[39mjava_exception)\n\u001b[1;32m    172\u001b[0m \u001b[38;5;28;01mif\u001b[39;00m \u001b[38;5;129;01mnot\u001b[39;00m \u001b[38;5;28misinstance\u001b[39m(converted, UnknownException):\n\u001b[1;32m    173\u001b[0m     \u001b[38;5;66;03m# Hide where the exception came from that shows a non-Pythonic\u001b[39;00m\n\u001b[1;32m    174\u001b[0m     \u001b[38;5;66;03m# JVM exception message.\u001b[39;00m\n\u001b[0;32m--> 175\u001b[0m     \u001b[38;5;28;01mraise\u001b[39;00m converted \u001b[38;5;28;01mfrom\u001b[39;00m \u001b[38;5;28;01mNone\u001b[39;00m\n\u001b[1;32m    176\u001b[0m \u001b[38;5;28;01melse\u001b[39;00m:\n\u001b[1;32m    177\u001b[0m     \u001b[38;5;28;01mraise\u001b[39;00m\n",
      "\u001b[0;31mIllegalArgumentException\u001b[0m: requirement failed: Column Credit_Score must be of type numeric but was actually of type string."
     ]
    }
   ],
   "source": [
    "#--definimos el estimador pipeline\n",
    "pipeline = Pipeline(stages=[stringIndexer,\n",
    "                            vecAssembler,\n",
    "                            dt_model])\n",
    "\n",
    "#--lo entrenamos\n",
    "pipelineModel = pipeline.fit(df_train)"
   ]
  },
  {
   "cell_type": "code",
   "execution_count": null,
   "metadata": {},
   "outputs": [],
   "source": []
  },
  {
   "cell_type": "code",
   "execution_count": 163,
   "metadata": {},
   "outputs": [
    {
     "ename": "NameError",
     "evalue": "name 'indexer' is not defined",
     "output_type": "error",
     "traceback": [
      "\u001b[0;31m---------------------------------------------------------------------------\u001b[0m",
      "\u001b[0;31mNameError\u001b[0m                                 Traceback (most recent call last)",
      "Cell \u001b[0;32mIn[163], line 2\u001b[0m\n\u001b[1;32m      1\u001b[0m \u001b[38;5;66;03m# Construct a pipeline\u001b[39;00m\n\u001b[0;32m----> 2\u001b[0m pipeline \u001b[38;5;241m=\u001b[39m Pipeline(stages\u001b[38;5;241m=\u001b[39m[indexer, onehot, assembler, regression])\n\u001b[1;32m      4\u001b[0m \u001b[38;5;66;03m# Train the pipeline on the training data\u001b[39;00m\n\u001b[1;32m      5\u001b[0m pipeline \u001b[38;5;241m=\u001b[39m pipeline\u001b[38;5;241m.\u001b[39mfit(flights_train)\n",
      "\u001b[0;31mNameError\u001b[0m: name 'indexer' is not defined"
     ]
    }
   ],
   "source": [
    "\n",
    "# Construct a pipeline\n",
    "pipeline = Pipeline(stages=[indexer, onehot, assembler, regression])\n",
    "\n",
    "# Train the pipeline on the training data\n",
    "pipeline = pipeline.fit(flights_train)\n",
    "\n",
    "# Make predictions on the testing data\n",
    "predictions = pipeline.transform(flights_test)"
   ]
  },
  {
   "cell_type": "markdown",
   "metadata": {},
   "source": [
    "Confusion matrix"
   ]
  },
  {
   "cell_type": "code",
   "execution_count": null,
   "metadata": {},
   "outputs": [],
   "source": [
    "prediction.groupBy(\"label\", \"prediction\").count().show()"
   ]
  },
  {
   "cell_type": "code",
   "execution_count": null,
   "metadata": {},
   "outputs": [],
   "source": [
    "from pyspark.ml.evaluation import MulticlassClassificationEvaluator\n",
    "evaluator = MulticlassClassificationEvaluator()\n",
    "evaluator.evaluate(prediction, {evaluator.metricName: 'weightedPrecision'})\n",
    "evaluator.evaluate(prediction, {evaluator.metricName: 'accuracy'})"
   ]
  },
  {
   "cell_type": "markdown",
   "metadata": {},
   "source": []
  },
  {
   "cell_type": "code",
   "execution_count": 187,
   "metadata": {},
   "outputs": [],
   "source": [
    "from pyspark.ml import Pipeline\n",
    "from pyspark.ml.feature import StringIndexer, VectorAssembler, OneHotEncoder\n",
    "from pyspark.ml.classification import DecisionTreeClassifier\n",
    "from pyspark.ml.evaluation import MulticlassClassificationEvaluator\n",
    "from pyspark.ml.tuning import CrossValidator, ParamGridBuilder"
   ]
  },
  {
   "cell_type": "code",
   "execution_count": 129,
   "metadata": {},
   "outputs": [
    {
     "name": "stderr",
     "output_type": "stream",
     "text": [
      "[Stage 228:>                                                        (0 + 1) / 1]\r"
     ]
    },
    {
     "name": "stdout",
     "output_type": "stream",
     "text": [
      "+-----------+--------+---+----------+-------------+---------------------+-----------------+---------------+-------------+-----------+-------------------+----------------------+--------------------+--------------------+----------------+------------------------+---------------------+-------------------+-----------------------+--------------------+------------------+------------+\n",
      "|Customer_ID|   Month|Age|Occupation|Annual_Income|Monthly_Inhand_Salary|Num_Bank_Accounts|Num_Credit_Card|Interest_Rate|Num_of_Loan|Delay_from_due_date|Num_of_Delayed_Payment|Changed_Credit_Limit|Num_Credit_Inquiries|Outstanding_Debt|Credit_Utilization_Ratio|Payment_of_Min_Amount|Total_EMI_per_month|Amount_invested_monthly|   Payment_Behaviour|   Monthly_Balance|Credit_Score|\n",
      "+-----------+--------+---+----------+-------------+---------------------+-----------------+---------------+-------------+-----------+-------------------+----------------------+--------------------+--------------------+----------------+------------------------+---------------------+-------------------+-----------------------+--------------------+------------------+------------+\n",
      "| CUS_0x3e85| January| 24|  Musician|    142113.96|             11903.83|                6|              4|           17|          3|                 16|                    12|                18.1|                 8.0|         1037.68|       38.43515845054853|                  Yes| 224.12213859526557|      247.7038275977354|High_spent_Large_...|  958.557033806999|    Standard|\n",
      "| CUS_0x3e85|February| 24|  Musician|    142113.96|             11903.83|                6|              4|           17|          3|                 22|                    14|                18.1|                 8.0|         1037.68|      41.190907977815904|                  Yes| 224.12213859526557|     186.90976056255286|High_spent_Large_...|1019.3511008421815|    Standard|\n",
      "| CUS_0x3e85|   March| 24|  Musician|    142113.96|             11903.83|                6|              4|           17|          3|                 21|                    12|                18.1|                 8.0|         1037.68|      35.557667546567835|                  Yes| 224.12213859526557|     303.75546268504786|High_spent_Medium...| 912.5053987196866|    Standard|\n",
      "| CUS_0x3e85|   April| 25|  Musician|    142113.96|             11903.83|                6|              4|           17|          3|                 21|                    13|                18.1|                 9.0|         1037.68|      41.532137042097844|                   NM| 224.12213859526557|      539.3393474064857|Low_spent_Medium_...| 706.9215139982488|    Standard|\n",
      "| CUS_0x3e85|     May| 25|  Musician|    142113.96|             11903.83|                6|              4|           17|          3|                 21|                    12|                18.1|                 9.0|         1037.68|      38.115683177158616|                   NM| 224.12213859526557|      716.3027905911829|Low_spent_Large_v...| 519.9580708135517|    Standard|\n",
      "| CUS_0x3e85|    June| 25|  Musician|    142113.96|             11903.83|                6|              4|           17|          3|                 21|                    12|                18.1|                 9.0|         1037.68|       36.41980578912396|                  Yes| 224.12213859526557|     442.26788352300895|High_spent_Medium...| 773.9929778817253|    Standard|\n",
      "| CUS_0x3e85|    July| 25|  Musician|    142113.96|             11903.83|                6|              4|           17|          3|                 21|                    12|                18.1|                 9.0|         1037.68|       27.51389788794978|                  Yes| 224.12213859526557|     389.75184821298484|              !@9#%8| 846.5090131917495|    Standard|\n",
      "| CUS_0x3e85|  August| 25|  Musician|    142113.96|             11903.83|                6|              4|           17|          3|                 18|                    12|                18.1|                 9.0|         1037.68|      30.667485965080882|                  Yes| 224.12213859526557|     104.15742676324274|High_spent_Large_...|1102.1034346414917|    Standard|\n",
      "| CUS_0xab00| January| 18|   Manager|     31633.54|   2930.1283333333336|                1|              5|            8|          3|                  8|                     8|                 9.7|                 3.0|          846.45|      25.486023329452838|                   No|  50.76844004205578|     200.90420000578888|Low_spent_Small_v...|331.34019328548874|        Poor|\n",
      "| CUS_0xab00|February| 18|   Manager|     31633.54|   2930.1283333333336|                1|              5|            8|          3|                  8|                     8|                 9.7|                 3.0|          846.45|       29.29859995597252|                   No|  50.76844004205578|      78.20804976697478|High_spent_Small_...| 424.0363435243028|        Poor|\n",
      "| CUS_0xab00|   March| 18|   Manager|     31633.54|   2930.1283333333336|                1|              5|            8|          3|                  8|                     5|                 9.7|                 3.0|          846.45|       26.31214177174234|                   No|  50.76844004205578|      216.6493582592965|Low_spent_Large_v...| 295.5950350319811|    Standard|\n",
      "| CUS_0xab00|   April| 18|   Manager|     31633.54|   2930.1283333333336|                1|              5|            8|          3|                  8|                     7|                 9.7|                 3.0|          846.45|       39.26840999582976|                   No|  50.76844004205578|      196.4863174539641|High_spent_Small_...| 305.7580758373135|    Standard|\n",
      "| CUS_0xab00|     May| 18|   Manager|     31633.54|   2930.1283333333336|                1|              5|            8|          3|                  3|                     7|                 9.7|                 3.0|          846.45|      29.310408247978174|                   No|  50.76844004205578|      159.6148515699002|Low_spent_Small_v...| 372.6295417213775|        Poor|\n",
      "| CUS_0xab00|    June| 18|   Manager|     31633.54|   2930.1283333333336|                1|              5|            8|          3|                  8|                     5|                 9.7|                 3.0|          846.45|       38.26046773145267|                   No|  50.76844004205578|     174.00000906126056|Low_spent_Small_v...| 358.2443842300171|        Poor|\n",
      "| CUS_0xab00|    July| 18|   Manager|     31633.54|   2930.1283333333336|                1|              5|            8|          3|                  6|                     6|                12.7|                 4.0|          846.45|      37.934664745348684|                   No|  50.76844004205578|       275.759794928842|Low_spent_Medium_...| 246.4845983624356|        Poor|\n",
      "| CUS_0xab00|  August| 18|   Manager|     31633.54|   2930.1283333333336|                1|              5|            8|          3|                  8|                     7|                 9.7|                 4.0|          846.45|      35.003637556931764|                   NM|  50.76844004205578|     136.63816954931966|High_spent_Small_...|365.60622374195793|        Poor|\n",
      "| CUS_0x3f47| January| 34|  Musician|     53071.47|            4656.6225|                8|              5|         5645|          8|                 44|                    19|                8.05|                10.0|         1740.38|       36.26215985508929|                   NM|  208.4834480479053|      60.72245822211172|              !@9#%8|446.45634372998296|        Poor|\n",
      "| CUS_0x3f47|February| 34|  Musician|     53071.47|            4656.6225|                8|              5|           21|          8|                 44|                    17|   4.050000000000002|                10.0|         1740.38|       29.99882275038287|                  Yes|  208.4834480479053|       77.5710920616907|High_spent_Medium...|429.60770989040407|        Poor|\n",
      "| CUS_0x3f47|   March| 34|  Musician|     53071.47|            4656.6225|                8|              5|           21|          8|                 49|                    19|                8.05|                10.0|         1740.38|      32.137392245001195|                  Yes|  208.4834480479053|      451.5421441365231|Low_spent_Small_v...| 95.63665781557164|        Poor|\n",
      "| CUS_0x3f47|   April| 35|  Musician|     53071.47|            4656.6225|                8|              5|           21|          8|                 44|                    19|                8.05|                10.0|         1740.38|       25.45298987914012|                  Yes|            67482.0|      76.30682513210726|High_spent_Large_...| 420.8719768199875|    Standard|\n",
      "+-----------+--------+---+----------+-------------+---------------------+-----------------+---------------+-------------+-----------+-------------------+----------------------+--------------------+--------------------+----------------+------------------------+---------------------+-------------------+-----------------------+--------------------+------------------+------------+\n",
      "only showing top 20 rows\n",
      "\n"
     ]
    },
    {
     "name": "stderr",
     "output_type": "stream",
     "text": [
      "                                                                                \r"
     ]
    }
   ],
   "source": [
    "df_clean.show()"
   ]
  },
  {
   "cell_type": "code",
   "execution_count": 164,
   "metadata": {},
   "outputs": [
    {
     "name": "stdout",
     "output_type": "stream",
     "text": [
      "root\n",
      " |-- Customer_ID: string (nullable = true)\n",
      " |-- Month: string (nullable = true)\n",
      " |-- Age: string (nullable = true)\n",
      " |-- Occupation: string (nullable = true)\n",
      " |-- Annual_Income: string (nullable = true)\n",
      " |-- Monthly_Inhand_Salary: double (nullable = true)\n",
      " |-- Num_Bank_Accounts: integer (nullable = true)\n",
      " |-- Num_Credit_Card: integer (nullable = true)\n",
      " |-- Interest_Rate: integer (nullable = true)\n",
      " |-- Num_of_Loan: string (nullable = true)\n",
      " |-- Delay_from_due_date: integer (nullable = true)\n",
      " |-- Num_of_Delayed_Payment: string (nullable = true)\n",
      " |-- Changed_Credit_Limit: string (nullable = true)\n",
      " |-- Num_Credit_Inquiries: double (nullable = true)\n",
      " |-- Outstanding_Debt: string (nullable = true)\n",
      " |-- Credit_Utilization_Ratio: double (nullable = true)\n",
      " |-- Payment_of_Min_Amount: string (nullable = true)\n",
      " |-- Total_EMI_per_month: double (nullable = true)\n",
      " |-- Amount_invested_monthly: string (nullable = true)\n",
      " |-- Payment_Behaviour: string (nullable = true)\n",
      " |-- Monthly_Balance: string (nullable = true)\n",
      " |-- Credit_Score: string (nullable = true)\n",
      " |-- Annual_Income: float (nullable = true)\n",
      " |-- Num_of_Loan: float (nullable = true)\n",
      " |-- Num_of_Delayed_Payment: float (nullable = true)\n",
      " |-- Changed_Credit_Limit: float (nullable = true)\n",
      " |-- Outstanding_Debt: float (nullable = true)\n",
      " |-- Amount_invested_monthly: float (nullable = true)\n",
      " |-- Monthly_Balance: float (nullable = true)\n",
      " |-- Monthly_Balance: float (nullable = true)\n",
      "\n"
     ]
    }
   ],
   "source": [
    "df_clean.printSchema()"
   ]
  },
  {
   "cell_type": "code",
   "execution_count": 188,
   "metadata": {},
   "outputs": [],
   "source": [
    "Cat_cols = [\"Customer_ID\", \"Month\", \"Occupation\", \"Payment_of_Min_Amount\", \"Payment_Behaviour\", \"Credit_Score\"]\n",
    "indexOutputCols = [x + \"Index\" for x in Cat_cols]\n",
    "Num_cols = [\"Age\", \"Annual_Income\", \"Monthly_Inhand_Salary\", \"Num_Bank_Accounts\", \"Num_Credit_Card\",\n",
    "            \"Interest_Rate\", \"Num_of_Loan\", \"Delay_from_due_date\", \"Num_of_Delayed_Payment\",\n",
    "            \"Changed_Credit_Limit\", \"Num_Credit_Inquiries\", \"Outstanding_Debt\", \"Credit_Utilization_Ratio\",\n",
    "            \"Total_EMI_per_month\", \"Amount_invested_monthly\", \"Monthly_Balance\"]"
   ]
  },
  {
   "cell_type": "code",
   "execution_count": 152,
   "metadata": {},
   "outputs": [
    {
     "data": {
      "text/plain": [
       "6"
      ]
     },
     "execution_count": 152,
     "metadata": {},
     "output_type": "execute_result"
    }
   ],
   "source": [
    "len(Cat_cols)"
   ]
  },
  {
   "cell_type": "code",
   "execution_count": 151,
   "metadata": {},
   "outputs": [
    {
     "data": {
      "text/plain": [
       "['Customer_IDIndex',\n",
       " 'MonthIndex',\n",
       " 'OccupationIndex',\n",
       " 'Payment_of_Min_AmountIndex',\n",
       " 'Payment_BehaviourIndex',\n",
       " 'Credit_ScoreIndex']"
      ]
     },
     "execution_count": 151,
     "metadata": {},
     "output_type": "execute_result"
    }
   ],
   "source": [
    "indexOutputCols"
   ]
  },
  {
   "cell_type": "code",
   "execution_count": 189,
   "metadata": {},
   "outputs": [
    {
     "name": "stderr",
     "output_type": "stream",
     "text": [
      "                                                                                \r"
     ]
    }
   ],
   "source": [
    "label_indexer = StringIndexer(inputCols=Cat_cols, outputCols=indexOutputCols)\n",
    "data = label_indexer.fit(df_clean).transform(df_clean)\n",
    "\n",
    "assembler = VectorAssembler(inputCols=Num_cols, outputCol=\"features\")\n",
    "data = assembler.transform(data)"
   ]
  },
  {
   "cell_type": "code",
   "execution_count": 194,
   "metadata": {},
   "outputs": [],
   "source": [
    "data = data.withColumn(\"label\", F.col(\"Credit_ScoreIndex\"))\n"
   ]
  },
  {
   "cell_type": "code",
   "execution_count": 195,
   "metadata": {},
   "outputs": [],
   "source": [
    "# Split data into training and testing sets\n",
    "train_data, test_data = data.randomSplit([0.8, 0.2], seed=42)"
   ]
  },
  {
   "cell_type": "code",
   "execution_count": 196,
   "metadata": {},
   "outputs": [
    {
     "name": "stderr",
     "output_type": "stream",
     "text": [
      "[Stage 337:>                                                        (0 + 1) / 1]\r"
     ]
    },
    {
     "name": "stdout",
     "output_type": "stream",
     "text": [
      "+-----------+--------+----+------------+-------------+---------------------+-----------------+---------------+-------------+-----------+-------------------+----------------------+--------------------+--------------------+----------------+------------------------+---------------------+-------------------+-----------------------+--------------------+---------------+------------+----------------+----------+---------------+--------------------------+----------------------+-----------------+--------------------+-----+\n",
      "|Customer_ID|   Month| Age|  Occupation|Annual_Income|Monthly_Inhand_Salary|Num_Bank_Accounts|Num_Credit_Card|Interest_Rate|Num_of_Loan|Delay_from_due_date|Num_of_Delayed_Payment|Changed_Credit_Limit|Num_Credit_Inquiries|Outstanding_Debt|Credit_Utilization_Ratio|Payment_of_Min_Amount|Total_EMI_per_month|Amount_invested_monthly|   Payment_Behaviour|Monthly_Balance|Credit_Score|Customer_IDIndex|MonthIndex|OccupationIndex|Payment_of_Min_AmountIndex|Payment_BehaviourIndex|Credit_ScoreIndex|            features|label|\n",
      "+-----------+--------+----+------------+-------------+---------------------+-----------------+---------------+-------------+-----------+-------------------+----------------------+--------------------+--------------------+----------------+------------------------+---------------------+-------------------+-----------------------+--------------------+---------------+------------+----------------+----------+---------------+--------------------------+----------------------+-----------------+--------------------+-----+\n",
      "| CUS_0x1044|   April|44.0|Entrepreneur|     33441.59|    2748.799166666666|                2|              4|            1|        0.0|                  5|                   3.0|                9.58|                 5.0|          154.96|       26.46614931113924|                   No|                0.0|              169.28815|Low_spent_Large_v...|      375.59177|    Standard|             0.0|       0.0|           10.0|                       1.0|                   5.0|              0.0|[44.0,33441.58984...|  0.0|\n",
      "| CUS_0x1044|  August|44.0|     _______|     33441.59|    2748.799166666666|                2|              4|            1|        0.0|                  1|                   4.0|                9.58|                 5.0|          154.96|      35.984108540767004|                   No|                0.0|              229.53226|Low_spent_Small_v...|      335.34766|    Standard|             0.0|       1.0|            3.0|                       1.0|                   0.0|              0.0|[44.0,33441.58984...|  0.0|\n",
      "| CUS_0x1044| January|44.0|Entrepreneur|     33441.59|    2748.799166666666|                2|              4|            1|        0.0|                  5|                   4.0|               14.58|                 1.0|          154.96|      22.913387563135338|                   No|                0.0|              186.91203|High_spent_Small_...|      347.96786|    Standard|             0.0|       3.0|           10.0|                       1.0|                   4.0|              0.0|[44.0,33441.58984...|  0.0|\n",
      "| CUS_0x1044|    July|44.0|Entrepreneur|     33441.59|    2748.799166666666|                2|              4|            1|        0.0|                  1|                   3.0|               12.58|                 5.0|          154.96|       38.11727216288301|                   No|                0.0|              69.980896|High_spent_Large_...|      444.89902|    Standard|             0.0|       4.0|           10.0|                       1.0|                   3.0|              0.0|[44.0,33441.58984...|  0.0|\n",
      "| CUS_0x1044|    June|44.0|Entrepreneur|     33441.59|    2748.799166666666|                2|              4|            1|        0.0|                  1|                   4.0|                9.58|                 5.0|          154.96|      25.647558819502954|                   NM|                0.0|               158.1958|High_spent_Small_...|       376.6841|    Standard|             0.0|       5.0|           10.0|                       2.0|                   4.0|              0.0|[44.0,33441.58984...|  0.0|\n",
      "| CUS_0x1044|     May|44.0|Entrepreneur|     33441.59|    2748.799166666666|                2|              4|            1|        0.0|                  1|                   6.0|                9.58|                 5.0|          154.96|       29.16522577718451|                   No|                0.0|              96.050354|High_spent_Medium...|      428.82956|    Standard|             0.0|       7.0|           10.0|                       1.0|                   1.0|              0.0|[44.0,33441.58984...|  0.0|\n",
      "| CUS_0x1096|  August|43.0|      Lawyer|     12931.56|              1348.63|                4|              4|            9|        3.0|                 18|                  20.0|               18.51|                 3.0|          752.86|       27.70974959154035|                  Yes| 20.579154708485927|              105.56661|Low_spent_Small_v...|      298.71722|        Poor|             1.0|       1.0|            5.0|                       0.0|                   0.0|              1.0|[43.0,12931.55957...|  1.0|\n",
      "| CUS_0x1096|February|42.0|      Lawyer|     12931.56|              1348.63|                4|           1032|            9|        3.0|                 19|                  20.0|               18.51|                 3.0|          752.86|      23.209329496944303|                  Yes| 20.579154708485927|              62.113018|Low_spent_Large_v...|      322.17084|    Standard|             1.0|       2.0|            5.0|                       0.0|                   5.0|              0.0|[42.0,12931.55957...|  0.0|\n",
      "| CUS_0x1096| January|42.0|      Lawyer|     12931.56|              1348.63|                4|              4|            9|        3.0|                 21|                  20.0|               18.51|                 3.0|          752.86|      38.243219918961024|                   NM| 20.579154708485927|              34.266483|High_spent_Large_...|      320.01736|    Standard|             1.0|       3.0|            5.0|                       2.0|                   3.0|              0.0|[42.0,12931.55957...|  0.0|\n",
      "| CUS_0x1096|    July|43.0|      Lawyer|     12931.56|              1348.63|                4|              4|         3658|        3.0|                 19|                  20.0|               18.51|                 3.0|          752.86|      33.791644415490815|                  Yes| 20.579154708485927|              180.76686|              !@9#%8|      223.51698|        Poor|             1.0|       4.0|            5.0|                       0.0|                   6.0|              1.0|[43.0,12931.55957...|  1.0|\n",
      "| CUS_0x1096|   March|42.0|      Lawyer|     12931.56|              1348.63|                4|              4|            9|        3.0|                 19|                  19.0|               18.51|                 3.0|          752.86|       25.66078507071405|                  Yes| 20.579154708485927|                63.6678|Low_spent_Small_v...|      340.61606|    Standard|             1.0|       6.0|            5.0|                       0.0|                   0.0|              0.0|[42.0,12931.55957...|  0.0|\n",
      "| CUS_0x1096|     May|43.0|      Lawyer|     12931.56|              1348.63|                4|              4|            9|        3.0|                 19|                  20.0|               18.51|                 3.0|          752.86|      26.397953012499467|                  Yes| 20.579154708485927|               99.12504|Low_spent_Medium_...|       295.1588|        Poor|             1.0|       7.0|            5.0|                       0.0|                   2.0|              1.0|[43.0,12931.55957...|  1.0|\n",
      "| CUS_0x1416|   April|19.0|  Accountant|     29651.23|    2460.935833333333|                6|              5|            6|        2.0|                 15|                  15.0|                8.62|                 2.0|         1217.99|        25.2894133248302|                   No|  37.90300631081737|              274.50372|              !@9#%8|      223.68684|    Standard|             2.0|       0.0|            2.0|                       1.0|                   6.0|              0.0|[19.0,29651.23046...|  0.0|\n",
      "| CUS_0x1416|  August|20.0|  Accountant|     29651.23|    2460.935833333333|                6|              5|            6|        2.0|                 14|                  15.0|                1.62|                 2.0|         1217.99|       23.16531584588695|                   No|  37.90300631081737|               36.60952|High_spent_Large_...|      411.58105|        Good|             2.0|       1.0|            2.0|                       1.0|                   3.0|              2.0|[20.0,29651.23046...|  2.0|\n",
      "| CUS_0x1416|February|19.0|  Accountant|     29651.23|    2460.935833333333|                6|              5|            6|        2.0|                 14|                  15.0|                8.62|                 2.0|         1217.99|       29.88807346641514|                   No|  37.90300631081737|              170.52211|High_spent_Small_...|      297.66846|    Standard|             2.0|       2.0|            2.0|                       1.0|                   4.0|              0.0|[19.0,29651.23046...|  0.0|\n",
      "| CUS_0x1416|    July|19.0|  Accountant|     29651.23|    2460.935833333333|                6|              5|            6|        2.0|                 14|                  17.0|                8.62|                 2.0|         1217.99|       41.83535746785105|                   No|  37.90300631081737|               43.91114|High_spent_Medium...|      414.27945|        Good|             2.0|       4.0|            2.0|                       1.0|                   1.0|              2.0|[19.0,29651.23046...|  2.0|\n",
      "| CUS_0x1416|    June|19.0|  Accountant|     29651.23|    2460.935833333333|                6|              5|            6|        2.0|                 14|                  15.0|                8.62|                 2.0|         1217.99|      38.063942321074975|                   No|  37.90300631081737|               224.3825|              !@9#%8|      273.80807|    Standard|             2.0|       5.0|            2.0|                       1.0|                   6.0|              0.0|[19.0,29651.23046...|  0.0|\n",
      "| CUS_0x1416|   March|19.0|  Accountant|     29651.23|    2460.935833333333|                6|              5|            6|        2.0|                 14|                  15.0|                8.62|                 2.0|         1217.99|      23.923699590214053|                   No|  37.90300631081737|              104.60363|High_spent_Medium...|      353.58694|    Standard|             2.0|       6.0|            2.0|                       1.0|                   1.0|              0.0|[19.0,29651.23046...|  0.0|\n",
      "| CUS_0x1551|   April|27.0|Entrepreneur|     16674.01|   1342.5008333333333|                1|              4|            5|        1.0|                 11|                   7.0|                2.03|                 4.0|         1471.88|       35.75039123271383|                   No| 13.632310559757302|              132.75633|Low_spent_Small_v...|      277.86145|        Good|             3.0|       0.0|           10.0|                       1.0|                   0.0|              2.0|[27.0,16674.00976...|  2.0|\n",
      "| CUS_0x1551|  August|28.0|Entrepreneur|     16674.01|   1342.5008333333333|                1|              4|            5|     -100.0|                 11|                   7.0|               -3.97|                 4.0|         1471.88|      25.695562740420968|                   NM| 13.632310559757302|               39.53111|High_spent_Small_...|      341.08667|        Good|             3.0|       1.0|           10.0|                       2.0|                   4.0|              2.0|[28.0,16674.00976...|  2.0|\n",
      "+-----------+--------+----+------------+-------------+---------------------+-----------------+---------------+-------------+-----------+-------------------+----------------------+--------------------+--------------------+----------------+------------------------+---------------------+-------------------+-----------------------+--------------------+---------------+------------+----------------+----------+---------------+--------------------------+----------------------+-----------------+--------------------+-----+\n",
      "only showing top 20 rows\n",
      "\n"
     ]
    },
    {
     "name": "stderr",
     "output_type": "stream",
     "text": [
      "                                                                                \r"
     ]
    }
   ],
   "source": [
    "train_data.show()"
   ]
  },
  {
   "cell_type": "code",
   "execution_count": 197,
   "metadata": {},
   "outputs": [
    {
     "name": "stderr",
     "output_type": "stream",
     "text": [
      "                                                                                \r"
     ]
    }
   ],
   "source": [
    "dt_classifier = DecisionTreeClassifier(labelCol=\"label\", featuresCol=\"features\")\n",
    "\n",
    "model = dt_classifier.fit(train_data)"
   ]
  },
  {
   "cell_type": "code",
   "execution_count": 198,
   "metadata": {},
   "outputs": [
    {
     "name": "stderr",
     "output_type": "stream",
     "text": [
      "[Stage 361:>                                                        (0 + 1) / 1]\r"
     ]
    },
    {
     "name": "stdout",
     "output_type": "stream",
     "text": [
      "Test Accuracy: 0.74\n"
     ]
    },
    {
     "name": "stderr",
     "output_type": "stream",
     "text": [
      "                                                                                \r"
     ]
    }
   ],
   "source": [
    "predictions = model.transform(test_data)\n",
    "\n",
    "evaluator = MulticlassClassificationEvaluator(labelCol=\"label\", predictionCol=\"prediction\", metricName=\"accuracy\")\n",
    "accuracy = evaluator.evaluate(predictions)\n",
    "\n",
    "print(f\"Test Accuracy: {accuracy:.2f}\")"
   ]
  },
  {
   "cell_type": "markdown",
   "metadata": {},
   "source": [
    "# Conclusiones\n",
    "\n",
    "\n",
    "Hay problemas en el casteo de las variables, por lo que el tipo de dato genera problemas. A final lo ideal es guardarlo en un parquet.\n",
    "\n",
    "Para el tema del modelado, ya contar con un template listo para funcionar antes de tiempo para no tener que crearlo en caliente. \n",
    "\n",
    "Considerar tiempo en generar ese modelo base ya que se tiene todo el tema del preprocesamiento listo, pero se demoró mucho en generarlo. Ya que la aproximación probablemente sea la más adecuada la de analizar el cliente a lo largo del tiempo y evaluar otros diferentes. Pero el hacer esto demoró más tiempo de lo esperado.\n",
    "\n",
    "Olvidé poner bien la etiqueta de label para la variable objetivo para que el modelo corriera.\n",
    "\n",
    "\n",
    "Nuevo...\n",
    "\n",
    "\n",
    "Analizar las metricas, hacer validación cruzada o optuna para encontrar los mejores parámetros...\n",
    "\n",
    "Checar si funciona el modelo en la realidad, llevarlo a producción etc.\n",
    "\n",
    "También la matriz de confusión y todas las métricas F1 scorre, etc."
   ]
  }
 ],
 "metadata": {
  "kernelspec": {
   "display_name": "mlbigdata",
   "language": "python",
   "name": "python3"
  },
  "language_info": {
   "codemirror_mode": {
    "name": "ipython",
    "version": 3
   },
   "file_extension": ".py",
   "mimetype": "text/x-python",
   "name": "python",
   "nbconvert_exporter": "python",
   "pygments_lexer": "ipython3",
   "version": "3.11.10"
  }
 },
 "nbformat": 4,
 "nbformat_minor": 2
}
