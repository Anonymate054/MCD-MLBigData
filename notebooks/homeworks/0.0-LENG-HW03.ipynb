{
 "cells": [
  {
   "cell_type": "markdown",
   "id": "2dcfbba9",
   "metadata": {
    "id": "2dcfbba9"
   },
   "source": [
    "# Regresión logística en línea\n",
    "\n",
    "En este notebook se muestra un ejemplo de regresión logística usando \"stochastic gradient descent\", lo que nos permite hacer el entrenamiento usando una muestra a la vez, y así, no cargar todo el dataset en memoria.\n",
    "\n",
    "Para mantener las cosas simples y didácticas, vamos a utilizar un dataset pequeño llamado 'iris.csv'. El dataset contiene las características de tres diferentes variedades de la planta iris y el objetivo es clasificarla en base a sus características."
   ]
  },
  {
   "cell_type": "code",
   "execution_count": 1,
   "id": "15cf1a10",
   "metadata": {
    "executionInfo": {
     "elapsed": 2257,
     "status": "ok",
     "timestamp": 1716263120780,
     "user": {
      "displayName": "Raúl Martínez Noriega",
      "userId": "14536488183963600923"
     },
     "user_tz": 360
    },
    "id": "15cf1a10"
   },
   "outputs": [],
   "source": [
    "import pandas as pd\n",
    "import numpy as np\n",
    "import matplotlib.pyplot as plt\n",
    "\n",
    "#--para escalar o estandarizar los datos\n",
    "from sklearn.preprocessing import StandardScaler\n",
    "#--para comparar nuestro algoritmo con la solución exacta\n",
    "from sklearn.linear_model import LogisticRegression\n",
    "\n",
    "# %matplotlib inline"
   ]
  },
  {
   "cell_type": "markdown",
   "id": "f3e083f4",
   "metadata": {
    "id": "f3e083f4"
   },
   "source": [
    "Vamos a cargar todo el dataset en memoria para hacer el código más sencillo y comprensible. Cuando tengamos un dataset grande, lo único que tenemos que hacer es leerlo por partes y hacer el procesamiento pertinente, tal como se mostro en notebooks anteriores."
   ]
  },
  {
   "cell_type": "code",
   "execution_count": 2,
   "id": "3ceaa2c9",
   "metadata": {
    "colab": {
     "base_uri": "https://localhost:8080/"
    },
    "executionInfo": {
     "elapsed": 1535,
     "status": "ok",
     "timestamp": 1716263149201,
     "user": {
      "displayName": "Raúl Martínez Noriega",
      "userId": "14536488183963600923"
     },
     "user_tz": 360
    },
    "id": "3ceaa2c9",
    "outputId": "e4c39c91-45d6-460a-f8f9-82674d39a7d6"
   },
   "outputs": [
    {
     "name": "stdout",
     "output_type": "stream",
     "text": [
      "   sepal_length  sepal_width  petal_length  petal_width species\n",
      "0           5.1          3.5           1.4          0.2  setosa\n",
      "1           4.9          3.0           1.4          0.2  setosa\n",
      "2           4.7          3.2           1.3          0.2  setosa\n",
      "-------------------\n",
      "       sepal_length  sepal_width  petal_length  petal_width\n",
      "count    150.000000   150.000000    150.000000   150.000000\n",
      "mean       5.843333     3.054000      3.758667     1.198667\n",
      "std        0.828066     0.433594      1.764420     0.763161\n",
      "min        4.300000     2.000000      1.000000     0.100000\n",
      "25%        5.100000     2.800000      1.600000     0.300000\n",
      "50%        5.800000     3.000000      4.350000     1.300000\n",
      "75%        6.400000     3.300000      5.100000     1.800000\n",
      "max        7.900000     4.400000      6.900000     2.500000\n",
      "-------------------\n",
      "<class 'pandas.core.frame.DataFrame'>\n",
      "RangeIndex: 150 entries, 0 to 149\n",
      "Data columns (total 5 columns):\n",
      " #   Column        Non-Null Count  Dtype  \n",
      "---  ------        --------------  -----  \n",
      " 0   sepal_length  150 non-null    float64\n",
      " 1   sepal_width   150 non-null    float64\n",
      " 2   petal_length  150 non-null    float64\n",
      " 3   petal_width   150 non-null    float64\n",
      " 4   species       150 non-null    object \n",
      "dtypes: float64(4), object(1)\n",
      "memory usage: 6.0+ KB\n",
      "None\n"
     ]
    }
   ],
   "source": [
    "#--cargamos el dataset y vemos sus características\n",
    "dat = pd.read_csv('../../data/raw/iris.csv')\n",
    "print(dat.head(3))\n",
    "print('-------------------')\n",
    "print(dat.describe())\n",
    "print('-------------------')\n",
    "print(dat.info())"
   ]
  },
  {
   "cell_type": "markdown",
   "id": "9ce59cce",
   "metadata": {
    "id": "9ce59cce"
   },
   "source": [
    "Realizaremos una clasificación binaria, por lo que solo utilizaremos las muestras que pertencen a la variedad 'setosa' y 'versicolor'. Además para poder visualizar los resultados solo utilizaremos dos atributos de los cuatro disponibles."
   ]
  },
  {
   "cell_type": "code",
   "execution_count": 3,
   "id": "e59610ea",
   "metadata": {
    "executionInfo": {
     "elapsed": 332,
     "status": "ok",
     "timestamp": 1716263159982,
     "user": {
      "displayName": "Raúl Martínez Noriega",
      "userId": "14536488183963600923"
     },
     "user_tz": 360
    },
    "id": "e59610ea"
   },
   "outputs": [],
   "source": [
    "#--seleccionamos las muestras de 'setosa' y 'versicolor'\n",
    "dat = dat[(dat.species=='setosa') | (dat.species=='versicolor')]"
   ]
  },
  {
   "cell_type": "code",
   "execution_count": 4,
   "id": "ffd64fd6",
   "metadata": {
    "executionInfo": {
     "elapsed": 319,
     "status": "ok",
     "timestamp": 1716263162626,
     "user": {
      "displayName": "Raúl Martínez Noriega",
      "userId": "14536488183963600923"
     },
     "user_tz": 360
    },
    "id": "ffd64fd6"
   },
   "outputs": [],
   "source": [
    "#--debido a que vamos a utilizar SGD es importante escalar los atributos\n",
    "scaler = StandardScaler()\n",
    "\n",
    "X = scaler.fit_transform(dat.drop('species', axis = 1))\n",
    "y = dat[['species']].values == 'setosa'\n",
    "y = np.squeeze(y)"
   ]
  },
  {
   "cell_type": "code",
   "execution_count": 5,
   "id": "df12ef20",
   "metadata": {
    "colab": {
     "base_uri": "https://localhost:8080/",
     "height": 452
    },
    "executionInfo": {
     "elapsed": 716,
     "status": "ok",
     "timestamp": 1716263199073,
     "user": {
      "displayName": "Raúl Martínez Noriega",
      "userId": "14536488183963600923"
     },
     "user_tz": 360
    },
    "id": "df12ef20",
    "outputId": "4247fe6b-93ba-4477-c23d-d4a81acd56dd"
   },
   "outputs": [
    {
     "data": {
      "text/plain": [
       "<matplotlib.legend.Legend at 0x720544a49290>"
      ]
     },
     "execution_count": 5,
     "metadata": {},
     "output_type": "execute_result"
    },
    {
     "data": {
      "image/png": "[encoded data removed]",
      "text/plain": [
       "<Figure size 640x480 with 1 Axes>"
      ]
     },
     "metadata": {},
     "output_type": "display_data"
    }
   ],
   "source": [
    "#--plotemos las muestras que vamos a classificar\n",
    "plt.plot(X[y,0], X[y,1], 'ro', label='0')\n",
    "plt.plot(X[~y,0], X[~y,1], 'bs', label='1')\n",
    "plt.title('Dataset a clasificar')\n",
    "plt.legend()"
   ]
  },
  {
   "cell_type": "markdown",
   "id": "93c922d5",
   "metadata": {
    "id": "93c922d5"
   },
   "source": [
    "## Solución exacta\n",
    "Usamos sklearn para obtener la solución exacta y después compararla con nuestros resultados"
   ]
  },
  {
   "cell_type": "code",
   "execution_count": null,
   "id": "8ba2bcc3",
   "metadata": {
    "colab": {
     "base_uri": "https://localhost:8080/",
     "height": 452
    },
    "executionInfo": {
     "elapsed": 1126,
     "status": "ok",
     "timestamp": 1716263233799,
     "user": {
      "displayName": "Raúl Martínez Noriega",
      "userId": "14536488183963600923"
     },
     "user_tz": 360
    },
    "id": "8ba2bcc3",
    "outputId": "ac4a4795-06f1-4b16-e80c-3192f6bb232b"
   },
   "outputs": [
    {
     "data": {
      "image/png": "[encoded data removed]",
      "text/plain": [
       "<Figure size 640x480 with 1 Axes>"
      ]
     },
     "metadata": {},
     "output_type": "display_data"
    }
   ],
   "source": [
    "#--definimos nuestro clasificador\n",
    "clf = LogisticRegression()\n",
    "#--entrenamos\n",
    "clf.fit(X=X[:,:2], y=y)\n",
    "#--obtenemos la ordenada al origen y la pendiente para dibujar el\n",
    "#-límite de decisión\n",
    "c = -clf.intercept_ / clf.coef_[0,1]\n",
    "m = -clf.coef_[0,0] / clf.coef_[0,1]\n",
    "#--definimos los extremos de la línea que queremos dibujar\n",
    "x_bound = np.array([-2.0, 2.5])\n",
    "y_bound_exact = m * x_bound + c\n",
    "\n",
    "#--ploteamos\n",
    "plt.plot(X[y,0], X[y,1], 'ro', label='0')\n",
    "plt.plot(X[~y,0], X[~y,1], 'bs', label='1')\n",
    "plt.plot(x_bound, y_bound_exact, 'b-', label='sol. exacta')\n",
    "plt.legend()\n",
    "plt.title('Solución exacta: sklearn')"
   ]
  },
  {
   "cell_type": "markdown",
   "id": "03ab35e2",
   "metadata": {
    "id": "03ab35e2"
   },
   "source": [
    "## Regresión logística en línea: SGD"
   ]
  },
  {
   "cell_type": "code",
   "execution_count": 12,
   "id": "60115328",
   "metadata": {},
   "outputs": [
    {
     "name": "stdout",
     "output_type": "stream",
     "text": [
      "[[ 0.0005      0.0005      0.0005      0.0005     -0.00029053  0.00042857\n",
      "  -0.00050718 -0.00051912]\n",
      " [ 0.0005      0.0005      0.0005      0.0005     -0.00029053  0.00042857\n",
      "  -0.00050718 -0.00051912]\n",
      " [ 0.0005      0.0005      0.0005      0.0005     -0.00029053  0.00042857\n",
      "  -0.00050718 -0.00051912]\n",
      " [ 0.0005      0.0005      0.0005      0.0005     -0.00029053  0.00042857\n",
      "  -0.00050718 -0.00051912]\n",
      " [ 0.0005      0.0005      0.0005      0.0005     -0.00029053  0.00042857\n",
      "  -0.00050718 -0.00051912]\n",
      " [ 0.0005      0.0005      0.0005      0.0005     -0.00029053  0.00042857\n",
      "  -0.00050718 -0.00051912]\n",
      " [ 0.0005      0.0005      0.0005      0.0005     -0.00029053  0.00042857\n",
      "  -0.00050718 -0.00051912]\n",
      " [ 0.0005      0.0005      0.0005      0.0005     -0.00029053  0.00042857\n",
      "  -0.00050718 -0.00051912]]\n"
     ]
    },
    {
     "ename": "ValueError",
     "evalue": "shapes (8,1) and (8,) not aligned: 1 (dim 1) != 8 (dim 0)",
     "output_type": "error",
     "traceback": [
      "\u001b[0;31m---------------------------------------------------------------------------\u001b[0m",
      "\u001b[0;31mValueError\u001b[0m                                Traceback (most recent call last)",
      "Cell \u001b[0;32mIn[12], line 33\u001b[0m\n\u001b[1;32m     30\u001b[0m         error \u001b[38;5;241m=\u001b[39m y_hat \u001b[38;5;241m-\u001b[39m y[j]\n\u001b[1;32m     32\u001b[0m         \u001b[38;5;66;03m# Update the thetas (parameters) using the gradient of the logistic loss function\u001b[39;00m\n\u001b[0;32m---> 33\u001b[0m         thetas \u001b[38;5;241m=\u001b[39m thetas \u001b[38;5;241m-\u001b[39m alpha \u001b[38;5;241m*\u001b[39m np\u001b[38;5;241m.\u001b[39mdot(X[j, :]\u001b[38;5;241m.\u001b[39mT\u001b[38;5;241m.\u001b[39mreshape(\u001b[38;5;241m-\u001b[39m\u001b[38;5;241m1\u001b[39m, \u001b[38;5;241m1\u001b[39m), error)\n\u001b[1;32m     34\u001b[0m         \u001b[38;5;28mprint\u001b[39m(thetas)\n\u001b[1;32m     37\u001b[0m \u001b[38;5;66;03m#--creamos una muestra nueva con una columna de unos\u001b[39;00m\n",
      "\u001b[0;31mValueError\u001b[0m: shapes (8,1) and (8,) not aligned: 1 (dim 1) != 8 (dim 0)"
     ]
    }
   ],
   "source": [
    "import numpy as np\n",
    "import matplotlib.pyplot as plt\n",
    "from sklearn.preprocessing import StandardScaler\n",
    "\n",
    "alpha = 0.001    # Learning rate\n",
    "epochs = 10     # Number of iterations over the entire dataset\n",
    "\n",
    "\n",
    "# Number of samples\n",
    "m = y.shape[0]\n",
    "\n",
    "# Add a column of ones to the feature set for the intercept term\n",
    "X = np.hstack([np.ones((m, 1)), X])  # Add a column of ones for the intercept term\n",
    "\n",
    "# Initialize thetas (parameters) as zeros\n",
    "thetas = np.zeros((X.shape[1], 1))  # Thetas size should match the number of features (including intercept)\n",
    "\n",
    "# Sigmoid function for logistic regression\n",
    "def sigmoid(z):\n",
    "    return 1 / (1 + np.exp(-z))\n",
    "\n",
    "# Iterate over epochs\n",
    "for i in range(epochs):\n",
    "    # Iterate over each sample in the training set (stochastic gradient descent)\n",
    "    for j in range(m):\n",
    "        # Calculate the predicted probability using the sigmoid function\n",
    "        y_hat = sigmoid(np.dot(X[j, :], thetas))  # Predicted probability for sample j\n",
    "        \n",
    "        # Compute the error (difference between predicted and actual label)\n",
    "        error = y_hat - y[j]\n",
    "        \n",
    "        # Update the thetas (parameters) using the gradient of the logistic loss function\n",
    "        thetas = thetas - alpha * np.dot(X[j, :].T.reshape(-1, 1), error)\n",
    "        print(thetas)\n",
    "\n",
    "\n",
    "#--creamos una muestra nueva con una columna de unos\n",
    "new_sample_ones = np.ones((2,2))\n",
    "# new_sample_ones[:,1:] = new_sample\n",
    "#--hacemos la predicción\n",
    "# y_hat = np.dot(new_sample_ones, thetas)\n",
    "\n",
    "# Make predictions for new sample (assuming new_sample_ones has the intercept term)\n",
    "# new_sample_ones = np.hstack([np.ones((new_sample.shape[0], 1)), new_sample])  # Add intercept for new sample\n",
    "y_hat = sigmoid(np.dot(new_sample_ones, thetas))\n",
    "\n",
    "# Plot the results\n",
    "plt.scatter(dat[dat['species'] == 'setosa'].iloc[:, 0], dat[dat['species'] == 'setosa'].iloc[:, 1], color='blue', label='Setosa')\n",
    "plt.scatter(dat[dat['species'] == 'versicolor'].iloc[:, 0], dat[dat['species'] == 'versicolor'].iloc[:, 1], color='green', label='Versicolor')\n",
    "# plt.plot(new_sample[:, 0], y_hat, 'r--', label='Logistic Regression Prediction')\n",
    "plt.legend()\n",
    "plt.show()"
   ]
  }
 ],
 "metadata": {
  "colab": {
   "provenance": []
  },
  "kernelspec": {
   "display_name": "mlbigdata",
   "language": "python",
   "name": "python3"
  },
  "language_info": {
   "codemirror_mode": {
    "name": "ipython",
    "version": 3
   },
   "file_extension": ".py",
   "mimetype": "text/x-python",
   "name": "python",
   "nbconvert_exporter": "python",
   "pygments_lexer": "ipython3",
   "version": "3.11.10"
  }
 },
 "nbformat": 4,
 "nbformat_minor": 5
}
