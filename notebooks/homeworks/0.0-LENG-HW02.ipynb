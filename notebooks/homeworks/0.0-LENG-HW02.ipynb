{
 "cells": [
  {
   "cell_type": "markdown",
   "metadata": {},
   "source": [
    "# Auto reload modules"
   ]
  },
  {
   "cell_type": "code",
   "execution_count": 1,
   "metadata": {},
   "outputs": [],
   "source": [
    "%load_ext autoreload\n",
    "%autoreload 2"
   ]
  },
  {
   "cell_type": "markdown",
   "metadata": {},
   "source": [
    "# Directories"
   ]
  },
  {
   "cell_type": "code",
   "execution_count": 2,
   "metadata": {},
   "outputs": [],
   "source": [
    "import fs\n",
    "import os"
   ]
  },
  {
   "cell_type": "code",
   "execution_count": 3,
   "metadata": {},
   "outputs": [],
   "source": [
    "os.environ[\"JAVA_HOME\"] = \"/usr/lib/jvm/java-8-openjdk-amd64\"\n",
    "os.environ[\"SPARK_HOME\"] = \"../../spark-3.5.3-bin-hadoop3\""
   ]
  },
  {
   "cell_type": "code",
   "execution_count": 4,
   "metadata": {},
   "outputs": [],
   "source": [
    "import findspark\n",
    "findspark.init()"
   ]
  },
  {
   "cell_type": "code",
   "execution_count": 18,
   "metadata": {},
   "outputs": [],
   "source": [
    "import pyspark\n",
    "from pyspark.sql import functions as F\n",
    "from pyspark.sql import SparkSession\n",
    "\n",
    "from pyspark.ml.feature import (VectorAssembler,\n",
    "                                OneHotEncoder,\n",
    "                                StringIndexer,\n",
    "                                RFormula)\n",
    "\n",
    "from pyspark.ml.regression import LinearRegression\n",
    "from pyspark.ml.evaluation import RegressionEvaluator\n",
    "from pyspark.ml import Pipeline\n",
    "\n",
    "from pyspark.sql.functions import regexp_replace, col"
   ]
  },
  {
   "cell_type": "code",
   "execution_count": 6,
   "metadata": {},
   "outputs": [
    {
     "name": "stderr",
     "output_type": "stream",
     "text": [
      "24/10/27 21:50:28 WARN Utils: Your hostname, ThinkPad-X1-Nano resolves to a loopback address: 127.0.1.1; using 192.168.68.130 instead (on interface wlp0s20f3)\n",
      "24/10/27 21:50:28 WARN Utils: Set SPARK_LOCAL_IP if you need to bind to another address\n",
      "Setting default log level to \"WARN\".\n",
      "To adjust logging level use sc.setLogLevel(newLevel). For SparkR, use setLogLevel(newLevel).\n",
      "24/10/27 21:50:30 WARN NativeCodeLoader: Unable to load native-hadoop library for your platform... using builtin-java classes where applicable\n",
      "24/10/27 21:50:31 WARN Utils: Service 'SparkUI' could not bind on port 4040. Attempting port 4041.\n"
     ]
    },
    {
     "name": "stdout",
     "output_type": "stream",
     "text": [
      "You are working with 1 core(s)\n"
     ]
    },
    {
     "data": {
      "text/html": [
       "\n",
       "            <div>\n",
       "                <p><b>SparkSession - in-memory</b></p>\n",
       "                \n",
       "        <div>\n",
       "            <p><b>SparkContext</b></p>\n",
       "\n",
       "            <p><a href=\"http://192.168.68.130:4041\">Spark UI</a></p>\n",
       "\n",
       "            <dl>\n",
       "              <dt>Version</dt>\n",
       "                <dd><code>v3.5.3</code></dd>\n",
       "              <dt>Master</dt>\n",
       "                <dd><code>local[*]</code></dd>\n",
       "              <dt>AppName</dt>\n",
       "                <dd><code>hello_world_spark</code></dd>\n",
       "            </dl>\n",
       "        </div>\n",
       "        \n",
       "            </div>\n",
       "        "
      ],
      "text/plain": [
       "<pyspark.sql.session.SparkSession at 0x78b19175b4d0>"
      ]
     },
     "execution_count": 6,
     "metadata": {},
     "output_type": "execute_result"
    }
   ],
   "source": [
    "spark = (SparkSession.builder\n",
    "  .master('local[*]')\n",
    "  .appName('hello_world_spark')\n",
    "  .getOrCreate())\n",
    "\n",
    "cores = spark._jsc.sc().getExecutorMemoryStatus().keySet().size()\n",
    "print(\"You are working with\", cores, \"core(s)\")\n",
    "spark"
   ]
  },
  {
   "cell_type": "code",
   "execution_count": 7,
   "metadata": {},
   "outputs": [
    {
     "data": {
      "text/html": [
       "<style>pre { white-space: pre !important; }</style>"
      ],
      "text/plain": [
       "<IPython.core.display.HTML object>"
      ]
     },
     "metadata": {},
     "output_type": "display_data"
    }
   ],
   "source": [
    "from IPython.core.display import HTML\n",
    "display(HTML(\"<style>pre { white-space: pre !important; }</style>\"))"
   ]
  },
  {
   "cell_type": "code",
   "execution_count": 8,
   "metadata": {},
   "outputs": [],
   "source": [
    "RAW_DIR = fs.open_fs(\"../../data/raw\")\n",
    "CSV_DIR = RAW_DIR.getsyspath(\"sf-airbnb.csv\")"
   ]
  },
  {
   "cell_type": "code",
   "execution_count": 9,
   "metadata": {},
   "outputs": [
    {
     "name": "stderr",
     "output_type": "stream",
     "text": [
      "24/10/27 21:50:53 WARN SparkStringUtils: Truncated the string representation of a plan since it was too large. This behavior can be adjusted by setting 'spark.sql.debug.maxToStringFields'.\n",
      "                                                                                \r"
     ]
    },
    {
     "name": "stdout",
     "output_type": "stream",
     "text": [
      "+----+---------------------------------+--------------+------------+------------------------------------------+----------------------------------------------------------------------------------------------------------------------------------------------------------------------------------------------------------------------------------------------------------------------------------------------------------------------------------------------------------------------------------------------------------------------+----------------------------------------------------------------------------------------------------------------------------------------------------------------------------------------------------------------------------------------------------------------------------------------------------------------------------------------------------------------------------------------------------------------------------------------------------------------------------------------------------------------------------------------------------------------------------------------------------------------------------------------------------------------------------------------------------------------------------------------------------------------------------------------------------------------------------------------------------------------------------------------------------------------------------------------------------------------------------------------------------------------------------------------+----------------------------------------------------------------------------------------------------------------------------------------------------------------------------------------------------------------------------------------------------------------------------------------------------------------------------------------------------------------------------------------------------------------------------------------------------------------------------------------------------------------------------------------------------------------------------------------------------------------------------------------------------------------------------------------------------------------------------------------------------------------------------------------------------------------------------------------------------------------------------------------------------------------------------------------------------------------------------------------------------------------------------------------+-------------------+--------------------------------------------------------------------------------------------------------------------------------------------------------------------------------------------------------------------------------------------------------------------------------------------------------------------------------+-----------------------------------------------------------------------------------------------------------------------------------------------------------------------------------------------------------------------------------------------+-------------------------------------------------------------------------------------------------------------------------------------------------------------------------------------------------------------------------------------------------------------------------------------------------------------------------------------------------------------------------------------------------------------------------------------------------------------------------------------------------------------------+-----------------------------------------------------------------------------------------------------------------------------------------------------------------------------------------------+---------------------------------------------------------------------------------------------------------------------------------------------------------------------------------------------------------------------------------------+--------------------------------------------------------------------------------------------------------------+-------------+----------+---------------------------------------------------------------------------------------------+--------------+-------+---------------------------------------+----------------+----------+----------------------------------------+--------------------------------------------------------------------------------------------------------------------------------------------------------------------------------------------------------------------------------------------------------------------------------------------------------------------------------------------------------------------------------------------------------------------------------------------------------------------------------------------------------------------------------------------------------------------------------------------------------------------------------------------------------------------------------------------------------------------------------------------------------------------------------------------------------------------------------------------------------------------------------------------------------------------------------------------------------------------------------------------------------------------------+------------------+------------------+--------------------+-----------------+-----------------------------------------------------------------------------------------------------+--------------------------------------------------------------------------------------------------------+------------------+-------------------+-------------------------+-------------------------------------------------------+--------------------+----------------------+--------------------------------+---------------+----------------------+----------------------------+-------------+-----+-------+-------------+-----------------+------------+-------------+--------+----------+-----------------+-------------+---------------+------------+---------+--------+----+--------+-------------------------------------------------------------------------------------------------------------------------------------------------------------------------------------------------------------------------------------------------------------------------------------------------------------------------------------------------------------------------+-----------+-------+------------+-------------+----------------+------------+---------------+------------+--------------+--------------+----------------------+----------------------+----------------------+----------------------+----------------------+----------------------+----------------+----------------+---------------+---------------+---------------+----------------+---------------------+-----------------+---------------------+------------+-----------+--------------------+----------------------+-------------------------+---------------------+---------------------------+----------------------+-------------------+----------------+-----------+------------------+----------------+------------------------+---------------------------+-----------------------------+--------------------------------+------------------------------+-------------------------------------------+--------------------------------------------+-------------------------------------------+-----------------+\n",
      "|id  |listing_url                      |scrape_id     |last_scraped|name                                      |summary                                                                                                                                                                                                                                                                                                                                                                                                               |space                                                                                                                                                                                                                                                                                                                                                                                                                                                                                                                                                                                                                                                                                                                                                                                                                                                                                                                                                                                                                                   |description                                                                                                                                                                                                                                                                                                                                                                                                                                                                                                                                                                                                                                                                                                                                                                                                                                                                                                                                                                                                                             |experiences_offered|neighborhood_overview                                                                                                                                                                                                                                                                                                           |notes                                                                                                                                                                                                                                          |transit                                                                                                                                                                                                                                                                                                                                                                                                                                                                                                            |access                                                                                                                                                                                         |interaction                                                                                                                                                                                                                            |house_rules                                                                                                   |thumbnail_url|medium_url|picture_url                                                                                  |xl_picture_url|host_id|host_url                               |host_name       |host_since|host_location                           |host_about                                                                                                                                                                                                                                                                                                                                                                                                                                                                                                                                                                                                                                                                                                                                                                                                                                                                                                                                                                                                                |host_response_time|host_response_rate|host_acceptance_rate|host_is_superhost|host_thumbnail_url                                                                                   |host_picture_url                                                                                        |host_neighbourhood|host_listings_count|host_total_listings_count|host_verifications                                     |host_has_profile_pic|host_identity_verified|street                          |neighbourhood  |neighbourhood_cleansed|neighbourhood_group_cleansed|city         |state|zipcode|market       |smart_location   |country_code|country      |latitude|longitude |is_location_exact|property_type|room_type      |accommodates|bathrooms|bedrooms|beds|bed_type|amenities                                                                                                                                                                                                                                                                                                                                                                |square_feet|price  |weekly_price|monthly_price|security_deposit|cleaning_fee|guests_included|extra_people|minimum_nights|maximum_nights|minimum_minimum_nights|maximum_minimum_nights|minimum_maximum_nights|maximum_maximum_nights|minimum_nights_avg_ntm|maximum_nights_avg_ntm|calendar_updated|has_availability|availability_30|availability_60|availability_90|availability_365|calendar_last_scraped|number_of_reviews|number_of_reviews_ltm|first_review|last_review|review_scores_rating|review_scores_accuracy|review_scores_cleanliness|review_scores_checkin|review_scores_communication|review_scores_location|review_scores_value|requires_license|license    |jurisdiction_names|instant_bookable|is_business_travel_ready|cancellation_policy        |require_guest_profile_picture|require_guest_phone_verification|calculated_host_listings_count|calculated_host_listings_count_entire_homes|calculated_host_listings_count_private_rooms|calculated_host_listings_count_shared_rooms|reviews_per_month|\n",
      "+----+---------------------------------+--------------+------------+------------------------------------------+----------------------------------------------------------------------------------------------------------------------------------------------------------------------------------------------------------------------------------------------------------------------------------------------------------------------------------------------------------------------------------------------------------------------+----------------------------------------------------------------------------------------------------------------------------------------------------------------------------------------------------------------------------------------------------------------------------------------------------------------------------------------------------------------------------------------------------------------------------------------------------------------------------------------------------------------------------------------------------------------------------------------------------------------------------------------------------------------------------------------------------------------------------------------------------------------------------------------------------------------------------------------------------------------------------------------------------------------------------------------------------------------------------------------------------------------------------------------+----------------------------------------------------------------------------------------------------------------------------------------------------------------------------------------------------------------------------------------------------------------------------------------------------------------------------------------------------------------------------------------------------------------------------------------------------------------------------------------------------------------------------------------------------------------------------------------------------------------------------------------------------------------------------------------------------------------------------------------------------------------------------------------------------------------------------------------------------------------------------------------------------------------------------------------------------------------------------------------------------------------------------------------+-------------------+--------------------------------------------------------------------------------------------------------------------------------------------------------------------------------------------------------------------------------------------------------------------------------------------------------------------------------+-----------------------------------------------------------------------------------------------------------------------------------------------------------------------------------------------------------------------------------------------+-------------------------------------------------------------------------------------------------------------------------------------------------------------------------------------------------------------------------------------------------------------------------------------------------------------------------------------------------------------------------------------------------------------------------------------------------------------------------------------------------------------------+-----------------------------------------------------------------------------------------------------------------------------------------------------------------------------------------------+---------------------------------------------------------------------------------------------------------------------------------------------------------------------------------------------------------------------------------------+--------------------------------------------------------------------------------------------------------------+-------------+----------+---------------------------------------------------------------------------------------------+--------------+-------+---------------------------------------+----------------+----------+----------------------------------------+--------------------------------------------------------------------------------------------------------------------------------------------------------------------------------------------------------------------------------------------------------------------------------------------------------------------------------------------------------------------------------------------------------------------------------------------------------------------------------------------------------------------------------------------------------------------------------------------------------------------------------------------------------------------------------------------------------------------------------------------------------------------------------------------------------------------------------------------------------------------------------------------------------------------------------------------------------------------------------------------------------------------------+------------------+------------------+--------------------+-----------------+-----------------------------------------------------------------------------------------------------+--------------------------------------------------------------------------------------------------------+------------------+-------------------+-------------------------+-------------------------------------------------------+--------------------+----------------------+--------------------------------+---------------+----------------------+----------------------------+-------------+-----+-------+-------------+-----------------+------------+-------------+--------+----------+-----------------+-------------+---------------+------------+---------+--------+----+--------+-------------------------------------------------------------------------------------------------------------------------------------------------------------------------------------------------------------------------------------------------------------------------------------------------------------------------------------------------------------------------+-----------+-------+------------+-------------+----------------+------------+---------------+------------+--------------+--------------+----------------------+----------------------+----------------------+----------------------+----------------------+----------------------+----------------+----------------+---------------+---------------+---------------+----------------+---------------------+-----------------+---------------------+------------+-----------+--------------------+----------------------+-------------------------+---------------------+---------------------------+----------------------+-------------------+----------------+-----------+------------------+----------------+------------------------+---------------------------+-----------------------------+--------------------------------+------------------------------+-------------------------------------------+--------------------------------------------+-------------------------------------------+-----------------+\n",
      "|958 |https://www.airbnb.com/rooms/958 |20190306152813|2019-03-06  |Bright, Modern Garden Unit - 1BR/1B       |New update: the house next door is under construction and there is the possibility of noise from 7am - 5pm. Our rates are discounted during this time period. Our bright garden unit overlooks a grassy backyard area with fruit trees and native plants. It is an oasis in a big city. The apartment comfortably fits a couple or small family. It is located on a cul de sac street that ends at lovely Duboce Park.|Newly remodeled, modern, and bright garden unit in historic Victorian home.  *New fixtures and finishes. *Organic cotton sheets and towels. *Zero VOC and non-toxic Yolo paint. *Organic and fair-trade teas, fresh local ground coffee. *Local art on walls. *Sofa bed and Queen bed are in the same room. More of a petite apartment with a separate room for dining and kitchen.                                                                                                                                                                                                                                                                                                                                                                                                                                                                                                                                                                                                                                                     |New update: the house next door is under construction and there is the possibility of noise from 7am - 5pm. Our rates are discounted during this time period. Our bright garden unit overlooks a grassy backyard area with fruit trees and native plants. It is an oasis in a big city. The apartment comfortably fits a couple or small family. It is located on a cul de sac street that ends at lovely Duboce Park. Newly remodeled, modern, and bright garden unit in historic Victorian home.  *New fixtures and finishes. *Organic cotton sheets and towels. *Zero VOC and non-toxic Yolo paint. *Organic and fair-trade teas, fresh local ground coffee. *Local art on walls. *Sofa bed and Queen bed are in the same room. More of a petite apartment with a separate room for dining and kitchen. *Full access to patio and backyard (shared with us and our dog who live upstairs) *Beautiful garden with fruit trees, native plants and lawn *Washer and dryer *Children's toys *Charcoal grill A family of 4 lives upstairs |none               |*Quiet cul de sac in friendly neighborhood *Steps away from grassy park with 2 playgrounds and Recreational Center *Very family-friendly neighborhood *Quaint shops, grocery stores and restaurants all within a 5-10 minute walk                                                                                               |Due to the fact that we have children and a dog, we are up early 7-8am and their footsteps or paws can be heard from the apartment. Our place is ideal for early risers or hard sleepers who appreciate quiet evenings more than late mornings.|*Public Transportation is 1/2 block away.  *Centrally located with easy access to major lines of public transportation (N-Judah, Haight #7, J-Church, Fillmore, and Bart) *No Parking is offered.  *Street parking is unmetered. From 9AM - 8PM restricted to two hours per space (this is the case for residential street parking city wide).  *Overnight and weekend parking on the street is unrestricted.  *Street cleaning happens at least 2 times a week on most streets. *Taxis suggested for Airport trips|*Full access to patio and backyard (shared with us and our dog who live upstairs) *Beautiful garden with fruit trees, native plants and lawn *Washer and dryer *Children's toys *Charcoal grill|A family of 4 lives upstairs with their dog. Normally we are able to meet guests, but we like to give people their privacy and mostly leave them alone. We are always available if anything is needed or questions need to be answered.|* No Pets - even visiting guests for a short time period. * No Smokers allowed - even if smoking off premises.|NULL         |NULL      |https://a0.muscache.com/im/pictures/b7c2a199-4c17-4ba6-b81d-751719d2dac6.jpg?aki_policy=large|NULL          |1169   |https://www.airbnb.com/users/show/1169 |Holly           |2008-07-31|San Francisco, California, United States|We are a family with 2 boys born in 2009 and 2011.  We have a new puppy (Feb 2017) named Tucker who is part black lab and part border collie.                                                                                                                                                                                                                                                                                                                                                                                                                                                                                                                                                                                                                                                                                                                                                                                                                                                                             |within an hour    |100%              |N/A                 |t                |https://a0.muscache.com/im/pictures/efdad96a-3efc-4bc2-bdc9-f69740a5a818.jpg?aki_policy=profile_small|https://a0.muscache.com/im/pictures/efdad96a-3efc-4bc2-bdc9-f69740a5a818.jpg?aki_policy=profile_x_medium|Duboce Triangle   |1                  |1                        |['email', 'phone', 'facebook', 'reviews', 'kba']       |t                   |t                     |San Francisco, CA, United States|Duboce Triangle|Western Addition      |NULL                        |San Francisco|CA   |94117  |San Francisco|San Francisco, CA|US          |United States|37.76931|-122.43386|t                |Apartment    |Entire home/apt|3           |1.0      |1       |2   |Real Bed|{TV,\"Cable TV\",Internet,Wifi,Kitchen,\"Pets live on this property\",Dog(s),Heating,\"Family/kid friendly\",Washer,Dryer,\"Smoke detector\",\"Carbon monoxide detector\",\"First aid kit\",Essentials,Shampoo,\"24-hour check-in\",Hangers,\"Hair dryer\",Iron,\"Laptop friendly workspace\",\"Self check-in\",Keypad,\"Private entrance\",\"Pack ’n Play/travel crib\",\"Room-darkening shades\"}|NULL       |$170.00|$1,120.00   |$4,200.00    |$100.00         |$100.00     |2              |$25.00      |1             |30            |1                     |1                     |30                    |30                    |1.0                   |30.0                  |today           |t               |1              |1              |2              |64              |2019-03-06           |180              |52                   |2009-07-23  |2019-02-17 |97                  |10                    |10                       |10                   |10                         |10                    |10                 |t               |STR-0001256|{\"SAN FRANCISCO\"} |t               |f                       |moderate                   |f                            |f                               |1                             |1                                          |0                                           |0                                          |1.54             |\n",
      "|5858|https://www.airbnb.com/rooms/5858|20190306152813|2019-03-06  |Creative Sanctuary                        |NULL                                                                                                                                                                                                                                                                                                                                                                                                                  |We live in a large Victorian house on a quiet street, nestled between the Mission district and Noe Valley. We're one block from the streetcar stop and five blocks from the subway. We have three bedrooms, two of which have double beds and windows which cast their light upon the high, warm colored walls and ceilings of this haven. We have lots of spaces in the house where you can relax, read, listen to music and just cozy up. The kitchen is well stocked and we have a bountiful garden and back deck.  Amenities include: Laundry, wireless, sun room, garden, sun deck and a full kitchen. We also have a library (not perfectly organized but filled with great books). We both are self employed creatives. I own a business involved in art and design and Tania is an arts journalist. We enjoy meeting people and are well versed in the art and design communities of the Bay Area. We also know some really good haunts.                                                                                        |We live in a large Victorian house on a quiet street, nestled between the Mission district and Noe Valley. We're one block from the streetcar stop and five blocks from the subway. We have three bedrooms, two of which have double beds and windows which cast their light upon the high, warm colored walls and ceilings of this haven. We have lots of spaces in the house where you can relax, read, listen to music and just cozy up. The kitchen is well stocked and we have a bountiful garden and back deck.  Amenities include: Laundry, wireless, sun room, garden, sun deck and a full kitchen. We also have a library (not perfectly organized but filled with great books). We both are self employed creatives. I own a business involved in art and design and Tania is an arts journalist. We enjoy meeting people and are well versed in the art and design communities of the Bay Area. We also know some really good haunts. Our deck, garden, gourmet kitchen and extensive art, design and literature library. I l|none               |I love how our neighborhood feels quiet but is so close to lots of hustle and bustle. There is the train nearby that takes you straight downtown and we are smack in the middle of Noe Valley (quiet and family oriented), The Mission (hip and lots of great restaurants and bars) and Bernal Heights (more good restaurants!).|All the furniture in the house was handmade so there is a very special feeling there. We love living here and hope that others feel the same.                                                                                                  |The train is two blocks away and you can stop and get a coffee on your way there :)                                                                                                                                                                                                                                                                                                                                                                                                                                |Our deck, garden, gourmet kitchen and extensive art, design and literature library.                                                                                                            |NULL                                                                                                                                                                                                                                   |Please respect the house, the art work, the furniture and have fun!                                           |NULL         |NULL      |https://a0.muscache.com/im/pictures/17714/3a7aea10_original.jpg?aki_policy=large             |NULL          |8904   |https://www.airbnb.com/users/show/8904 |Philip And Tania|2009-03-02|San Francisco, California, United States|Philip: English transplant to the Bay Area and half Spanish adoptive son of hardworking Yorkshire folk. I'm married to the one, engaged to my work and in love with exploring the merging of design art and craft.\\r\\n\\r\\nTania: SF raised with a NY energy and an Armenian background that I am proud of. I'm an international journalist, interviewing artists and producing for radio and print. I speak several languages and love to meet people. Found my husband in a cafe in NY and came back to SF to live near my Grandma. Oh, and I love plants.\\r\\n\\r\\n\\r\\n\\r\\n\\r\\n\\r\\n                                                                                                                                                                                                                                                                                                                                                                                                                                       |within a day      |80%               |N/A                 |f                |https://a0.muscache.com/im/users/8904/profile_pic/1283840786/original.jpg?aki_policy=profile_small   |https://a0.muscache.com/im/users/8904/profile_pic/1283840786/original.jpg?aki_policy=profile_x_medium   |Bernal Heights    |2                  |2                        |['email', 'phone', 'reviews', 'kba', 'work_email']     |t                   |t                     |San Francisco, CA, United States|Bernal Heights |Bernal Heights        |NULL                        |San Francisco|CA   |94110  |San Francisco|San Francisco, CA|US          |United States|37.74511|-122.42102|t                |Apartment    |Entire home/apt|5           |1.0      |2       |3   |Real Bed|{Internet,Wifi,Kitchen,Heating,\"Family/kid friendly\",Washer,Dryer,\"Smoke detector\",\"First aid kit\",\"Fire extinguisher\",Essentials,Shampoo,Hangers,\"Hair dryer\",Iron,\"Laptop friendly workspace\",\"Private entrance\"}                                                                                                                                                      |NULL       |$235.00|$1,600.00   |$5,500.00    |NULL            |$100.00     |2              |$0.00       |30            |60            |30                    |30                    |60                    |60                    |30.0                  |60.0                  |3 months ago    |t               |0              |0              |0              |0               |2019-03-06           |111              |0                    |2009-05-03  |2017-08-06 |98                  |10                    |10                       |10                   |10                         |10                    |9                  |t               |NULL       |{\"SAN FRANCISCO\"} |f               |f                       |strict_14_with_grace_period|f                            |f                               |1                             |1                                          |0                                           |0                                          |0.93             |\n",
      "|7918|https://www.airbnb.com/rooms/7918|20190306152813|2019-03-06  |A Friendly Room - UCSF/USF - San Francisco|Nice and good public transportation.  7 minutes walk to UCSF.  15 minutes walk to USF, ST Mary Hospital  Room rental-sunny view room/sink/Wi Fi (inner sunset / UCSF) (map) The place is located within walking distance to Golden Gate Park, UCSF &  USF                                                                                                                                                             |Room rental-sunny view room/sink/Wi Fi (inner sunset / UCSF) (map) 7 minutes walk to UCSF and 15 minutes walk to USF. -------------------------------------------------------- The place is located within walking distance to Golden Gate Park, UCSF Hospital at corner of Stanyan and Carl street.  Walking distance to 9 famous restaurants, Walgreen, Post Office, Organic Stores, regular grocery and meat store, CD store, McDonald, UCSF Medical Center, Haight Street Shopping, St. Mary's Hospital, Golden Gate Park and University of San Francisco.  MUNI N–Car runs in front of the building take you to Ocean Beach or Downtown  Monthly, Short term. additional bed $12 per night. Washer and Dryer (coins insert machine).  Refrigerator and microwave are provided.  Share 4 daily clean self lock bathrooms. Large clean kitchen for cooking (with stove).  Eat in large sunny kitchen area(table and sofa)  Comfortable sunny sitting room.  Housekeeper (common areas).  Looking for a responsible, mature, mellow an|Nice and good public transportation.  7 minutes walk to UCSF.  15 minutes walk to USF, ST Mary Hospital  Room rental-sunny view room/sink/Wi Fi (inner sunset / UCSF) (map) The place is located within walking distance to Golden Gate Park, UCSF &  USF Room rental-sunny view room/sink/Wi Fi (inner sunset / UCSF) (map) 7 minutes walk to UCSF and 15 minutes walk to USF. -------------------------------------------------------- The place is located within walking distance to Golden Gate Park, UCSF Hospital at corner of Stanyan and Carl street.  Walking distance to 9 famous restaurants, Walgreen, Post Office, Organic Stores, regular grocery and meat store, CD store, McDonald, UCSF Medical Center, Haight Street Shopping, St. Mary's Hospital, Golden Gate Park and University of San Francisco.  MUNI N–Car runs in front of the building take you to Ocean Beach or Downtown  Monthly, Short term. additional bed $12 per night. Washer and Dryer (coins insert machine).  Refrigerator and microwave are prov|none               |Shopping old town, restaurants, McDonald, Whole food & Target stores.                                                                                                                                                                                                                                                           |Please email your picture id with print name (SF school resident id)and job/school offer letter/apply school letter right after reservation.                                                                                                   |N Juda Muni and bus stop.  Street parking.                                                                                                                                                                                                                                                                                                                                                                                                                                                                         |NULL                                                                                                                                                                                           |NULL                                                                                                                                                                                                                                   |No party, No smoking, not for any kinds of smoking, no candle, no tourist, no transient.                      |NULL         |NULL      |https://a0.muscache.com/im/pictures/26356/8030652f_original.jpg?aki_policy=large             |NULL          |21994  |https://www.airbnb.com/users/show/21994|Aaron           |2009-06-17|San Francisco, California, United States|7 minutes walk to UCSF.  15 minutes walk to USF, St. Mary Hospital.  5 minute walk to Goldern Gate Park/Whole food and McDonald/ regular food store and many different style restaurants in old town.\\r\\n\\r\\nTwo ways public transportation in front the building to sunset areas/downtown/Goldern Gate Bridge/Cal Train station/Airport.  Other walking distance bus stops just 5 minutes walking distance.\\r\\n\\r\\nI have a large size of room but only one single or one full size bed only. The price just a little bit different. Do you still want it? \\r\\n\\r\\nPlease email your job offer letter and picture ID / acceptable credit report and score and financial information after you make reservation.\\r\\n\\r\\nAdditional adult person $12 per night & One time cleaning fee $50  and  security deposit will be collected upon your arrival. \\r\\n\\r\\nPlease email your picture id with print name (SF school resident id)and job/school offer letter/apply school letter right after reservation.\\r\\n\\r\\n\\r\\n\\r\\n|within a few hours|100%              |N/A                 |f                |https://a0.muscache.com/im/users/21994/profile_pic/1428380894/original.jpg?aki_policy=profile_small  |https://a0.muscache.com/im/users/21994/profile_pic/1428380894/original.jpg?aki_policy=profile_x_medium  |Cole Valley       |10                 |10                       |['email', 'phone', 'reviews', 'jumio', 'government_id']|t                   |t                     |San Francisco, CA, United States|Cole Valley    |Haight Ashbury        |NULL                        |San Francisco|CA   |94117  |San Francisco|San Francisco, CA|US          |United States|37.76669|-122.4525 |t                |Apartment    |Private room   |2           |4.0      |1       |1   |Real Bed|{TV,Internet,Wifi,Kitchen,\"Free street parking\",Heating,Washer,Dryer,\"Smoke detector\",\"Carbon monoxide detector\",\"Fire extinguisher\",\"Lock on bedroom door\",Hangers,\"translation missing: en.hosting_amenity_49\",\"translation missing: en.hosting_amenity_50\",\"Private entrance\",\"Hot water\",\"Host greets you\"}                                                          |NULL       |$65.00 |$485.00     |$1,685.00    |$200.00         |$50.00      |1              |$12.00      |32            |60            |32                    |32                    |60                    |60                    |32.0                  |60.0                  |16 months ago   |t               |30             |60             |90             |365             |2019-03-06           |17               |0                    |2009-08-31  |2016-11-21 |85                  |8                     |8                        |9                    |9                          |9                     |8                  |t               |NULL       |{\"SAN FRANCISCO\"} |f               |f                       |strict_14_with_grace_period|f                            |f                               |9                             |0                                          |9                                           |0                                          |0.15             |\n",
      "+----+---------------------------------+--------------+------------+------------------------------------------+----------------------------------------------------------------------------------------------------------------------------------------------------------------------------------------------------------------------------------------------------------------------------------------------------------------------------------------------------------------------------------------------------------------------+----------------------------------------------------------------------------------------------------------------------------------------------------------------------------------------------------------------------------------------------------------------------------------------------------------------------------------------------------------------------------------------------------------------------------------------------------------------------------------------------------------------------------------------------------------------------------------------------------------------------------------------------------------------------------------------------------------------------------------------------------------------------------------------------------------------------------------------------------------------------------------------------------------------------------------------------------------------------------------------------------------------------------------------+----------------------------------------------------------------------------------------------------------------------------------------------------------------------------------------------------------------------------------------------------------------------------------------------------------------------------------------------------------------------------------------------------------------------------------------------------------------------------------------------------------------------------------------------------------------------------------------------------------------------------------------------------------------------------------------------------------------------------------------------------------------------------------------------------------------------------------------------------------------------------------------------------------------------------------------------------------------------------------------------------------------------------------------+-------------------+--------------------------------------------------------------------------------------------------------------------------------------------------------------------------------------------------------------------------------------------------------------------------------------------------------------------------------+-----------------------------------------------------------------------------------------------------------------------------------------------------------------------------------------------------------------------------------------------+-------------------------------------------------------------------------------------------------------------------------------------------------------------------------------------------------------------------------------------------------------------------------------------------------------------------------------------------------------------------------------------------------------------------------------------------------------------------------------------------------------------------+-----------------------------------------------------------------------------------------------------------------------------------------------------------------------------------------------+---------------------------------------------------------------------------------------------------------------------------------------------------------------------------------------------------------------------------------------+--------------------------------------------------------------------------------------------------------------+-------------+----------+---------------------------------------------------------------------------------------------+--------------+-------+---------------------------------------+----------------+----------+----------------------------------------+--------------------------------------------------------------------------------------------------------------------------------------------------------------------------------------------------------------------------------------------------------------------------------------------------------------------------------------------------------------------------------------------------------------------------------------------------------------------------------------------------------------------------------------------------------------------------------------------------------------------------------------------------------------------------------------------------------------------------------------------------------------------------------------------------------------------------------------------------------------------------------------------------------------------------------------------------------------------------------------------------------------------------+------------------+------------------+--------------------+-----------------+-----------------------------------------------------------------------------------------------------+--------------------------------------------------------------------------------------------------------+------------------+-------------------+-------------------------+-------------------------------------------------------+--------------------+----------------------+--------------------------------+---------------+----------------------+----------------------------+-------------+-----+-------+-------------+-----------------+------------+-------------+--------+----------+-----------------+-------------+---------------+------------+---------+--------+----+--------+-------------------------------------------------------------------------------------------------------------------------------------------------------------------------------------------------------------------------------------------------------------------------------------------------------------------------------------------------------------------------+-----------+-------+------------+-------------+----------------+------------+---------------+------------+--------------+--------------+----------------------+----------------------+----------------------+----------------------+----------------------+----------------------+----------------+----------------+---------------+---------------+---------------+----------------+---------------------+-----------------+---------------------+------------+-----------+--------------------+----------------------+-------------------------+---------------------+---------------------------+----------------------+-------------------+----------------+-----------+------------------+----------------+------------------------+---------------------------+-----------------------------+--------------------------------+------------------------------+-------------------------------------------+--------------------------------------------+-------------------------------------------+-----------------+\n",
      "only showing top 3 rows\n",
      "\n"
     ]
    }
   ],
   "source": [
    "filePath = CSV_DIR\n",
    "\n",
    "rawDF = spark.read.csv(filePath,\n",
    "                       header=\"true\",\n",
    "                       inferSchema=\"true\",\n",
    "                       multiLine=\"true\",\n",
    "                       escape='\"')\n",
    "\n",
    "rawDF.show(3, truncate=False)"
   ]
  },
  {
   "cell_type": "code",
   "execution_count": 11,
   "metadata": {},
   "outputs": [
    {
     "name": "stdout",
     "output_type": "stream",
     "text": [
      "root\n",
      " |-- id: integer (nullable = true)\n",
      " |-- listing_url: string (nullable = true)\n",
      " |-- scrape_id: long (nullable = true)\n",
      " |-- last_scraped: date (nullable = true)\n",
      " |-- name: string (nullable = true)\n",
      " |-- summary: string (nullable = true)\n",
      " |-- space: string (nullable = true)\n",
      " |-- description: string (nullable = true)\n",
      " |-- experiences_offered: string (nullable = true)\n",
      " |-- neighborhood_overview: string (nullable = true)\n",
      " |-- notes: string (nullable = true)\n",
      " |-- transit: string (nullable = true)\n",
      " |-- access: string (nullable = true)\n",
      " |-- interaction: string (nullable = true)\n",
      " |-- house_rules: string (nullable = true)\n",
      " |-- thumbnail_url: string (nullable = true)\n",
      " |-- medium_url: string (nullable = true)\n",
      " |-- picture_url: string (nullable = true)\n",
      " |-- xl_picture_url: string (nullable = true)\n",
      " |-- host_id: integer (nullable = true)\n",
      " |-- host_url: string (nullable = true)\n",
      " |-- host_name: string (nullable = true)\n",
      " |-- host_since: date (nullable = true)\n",
      " |-- host_location: string (nullable = true)\n",
      " |-- host_about: string (nullable = true)\n",
      " |-- host_response_time: string (nullable = true)\n",
      " |-- host_response_rate: string (nullable = true)\n",
      " |-- host_acceptance_rate: string (nullable = true)\n",
      " |-- host_is_superhost: string (nullable = true)\n",
      " |-- host_thumbnail_url: string (nullable = true)\n",
      " |-- host_picture_url: string (nullable = true)\n",
      " |-- host_neighbourhood: string (nullable = true)\n",
      " |-- host_listings_count: integer (nullable = true)\n",
      " |-- host_total_listings_count: integer (nullable = true)\n",
      " |-- host_verifications: string (nullable = true)\n",
      " |-- host_has_profile_pic: string (nullable = true)\n",
      " |-- host_identity_verified: string (nullable = true)\n",
      " |-- street: string (nullable = true)\n",
      " |-- neighbourhood: string (nullable = true)\n",
      " |-- neighbourhood_cleansed: string (nullable = true)\n",
      " |-- neighbourhood_group_cleansed: string (nullable = true)\n",
      " |-- city: string (nullable = true)\n",
      " |-- state: string (nullable = true)\n",
      " |-- zipcode: string (nullable = true)\n",
      " |-- market: string (nullable = true)\n",
      " |-- smart_location: string (nullable = true)\n",
      " |-- country_code: string (nullable = true)\n",
      " |-- country: string (nullable = true)\n",
      " |-- latitude: double (nullable = true)\n",
      " |-- longitude: double (nullable = true)\n",
      " |-- is_location_exact: string (nullable = true)\n",
      " |-- property_type: string (nullable = true)\n",
      " |-- room_type: string (nullable = true)\n",
      " |-- accommodates: integer (nullable = true)\n",
      " |-- bathrooms: double (nullable = true)\n",
      " |-- bedrooms: integer (nullable = true)\n",
      " |-- beds: integer (nullable = true)\n",
      " |-- bed_type: string (nullable = true)\n",
      " |-- amenities: string (nullable = true)\n",
      " |-- square_feet: integer (nullable = true)\n",
      " |-- price: string (nullable = true)\n",
      " |-- weekly_price: string (nullable = true)\n",
      " |-- monthly_price: string (nullable = true)\n",
      " |-- security_deposit: string (nullable = true)\n",
      " |-- cleaning_fee: string (nullable = true)\n",
      " |-- guests_included: integer (nullable = true)\n",
      " |-- extra_people: string (nullable = true)\n",
      " |-- minimum_nights: integer (nullable = true)\n",
      " |-- maximum_nights: integer (nullable = true)\n",
      " |-- minimum_minimum_nights: integer (nullable = true)\n",
      " |-- maximum_minimum_nights: integer (nullable = true)\n",
      " |-- minimum_maximum_nights: integer (nullable = true)\n",
      " |-- maximum_maximum_nights: integer (nullable = true)\n",
      " |-- minimum_nights_avg_ntm: double (nullable = true)\n",
      " |-- maximum_nights_avg_ntm: double (nullable = true)\n",
      " |-- calendar_updated: string (nullable = true)\n",
      " |-- has_availability: string (nullable = true)\n",
      " |-- availability_30: integer (nullable = true)\n",
      " |-- availability_60: integer (nullable = true)\n",
      " |-- availability_90: integer (nullable = true)\n",
      " |-- availability_365: integer (nullable = true)\n",
      " |-- calendar_last_scraped: date (nullable = true)\n",
      " |-- number_of_reviews: integer (nullable = true)\n",
      " |-- number_of_reviews_ltm: integer (nullable = true)\n",
      " |-- first_review: date (nullable = true)\n",
      " |-- last_review: date (nullable = true)\n",
      " |-- review_scores_rating: integer (nullable = true)\n",
      " |-- review_scores_accuracy: integer (nullable = true)\n",
      " |-- review_scores_cleanliness: integer (nullable = true)\n",
      " |-- review_scores_checkin: integer (nullable = true)\n",
      " |-- review_scores_communication: integer (nullable = true)\n",
      " |-- review_scores_location: integer (nullable = true)\n",
      " |-- review_scores_value: integer (nullable = true)\n",
      " |-- requires_license: string (nullable = true)\n",
      " |-- license: string (nullable = true)\n",
      " |-- jurisdiction_names: string (nullable = true)\n",
      " |-- instant_bookable: string (nullable = true)\n",
      " |-- is_business_travel_ready: string (nullable = true)\n",
      " |-- cancellation_policy: string (nullable = true)\n",
      " |-- require_guest_profile_picture: string (nullable = true)\n",
      " |-- require_guest_phone_verification: string (nullable = true)\n",
      " |-- calculated_host_listings_count: integer (nullable = true)\n",
      " |-- calculated_host_listings_count_entire_homes: integer (nullable = true)\n",
      " |-- calculated_host_listings_count_private_rooms: integer (nullable = true)\n",
      " |-- calculated_host_listings_count_shared_rooms: integer (nullable = true)\n",
      " |-- reviews_per_month: double (nullable = true)\n",
      "\n"
     ]
    }
   ],
   "source": [
    "rawDF.printSchema()"
   ]
  },
  {
   "cell_type": "code",
   "execution_count": 20,
   "metadata": {},
   "outputs": [
    {
     "name": "stdout",
     "output_type": "stream",
     "text": [
      "+-------+\n",
      "|  price|\n",
      "+-------+\n",
      "|$170.00|\n",
      "|$235.00|\n",
      "| $65.00|\n",
      "| $65.00|\n",
      "|$785.00|\n",
      "+-------+\n",
      "only showing top 5 rows\n",
      "\n"
     ]
    }
   ],
   "source": [
    "rawDF.select(\"price\").show(5)"
   ]
  },
  {
   "cell_type": "code",
   "execution_count": 37,
   "metadata": {},
   "outputs": [
    {
     "name": "stdout",
     "output_type": "stream",
     "text": [
      "root\n",
      " |-- price: integer (nullable = true)\n",
      "\n"
     ]
    }
   ],
   "source": [
    "rawDF.select(\"price\").printSchema()"
   ]
  },
  {
   "cell_type": "code",
   "execution_count": 25,
   "metadata": {},
   "outputs": [],
   "source": [
    "rawDF = rawDF.withColumn(\"price\", regexp_replace(col(\"price\"), r\"[$\\s]\", \"\").cast(\"int\"))"
   ]
  },
  {
   "cell_type": "code",
   "execution_count": 39,
   "metadata": {},
   "outputs": [],
   "source": [
    "df_clean = rawDF.select(\"price\", \"bedrooms\").dropna()"
   ]
  },
  {
   "cell_type": "code",
   "execution_count": 41,
   "metadata": {},
   "outputs": [
    {
     "name": "stderr",
     "output_type": "stream",
     "text": [
      "                                                                                \r"
     ]
    },
    {
     "name": "stdout",
     "output_type": "stream",
     "text": [
      "Tenemos 5709 muestras en el training set y 1348 en el test set.\n"
     ]
    },
    {
     "name": "stderr",
     "output_type": "stream",
     "text": [
      "                                                                                \r"
     ]
    }
   ],
   "source": [
    "trainDF, testDF = df_clean.randomSplit([.8, .2], seed=42)\n",
    "\n",
    "print(f\"Tenemos {trainDF.cache().count()} muestras en el training set \\\n",
    "y {testDF.cache().count()} en el test set.\")"
   ]
  },
  {
   "cell_type": "code",
   "execution_count": 42,
   "metadata": {},
   "outputs": [
    {
     "name": "stdout",
     "output_type": "stream",
     "text": [
      "+-------+------------------+-----------------+\n",
      "|summary|             price|         bedrooms|\n",
      "+-------+------------------+-----------------+\n",
      "|  count|              5709|             5709|\n",
      "|   mean|190.79471010684884|1.329129444736381|\n",
      "| stddev|141.73267040414058|0.911901162647597|\n",
      "|    min|                 0|                0|\n",
      "|    25%|                99|                1|\n",
      "|    50%|               150|                1|\n",
      "|    75%|               230|                2|\n",
      "|    max|               999|               14|\n",
      "+-------+------------------+-----------------+\n",
      "\n"
     ]
    }
   ],
   "source": [
    "(trainDF\n",
    "  .select(\"price\", \"bedrooms\")\n",
    "  .summary()\n",
    "  .show())"
   ]
  },
  {
   "cell_type": "code",
   "execution_count": 43,
   "metadata": {},
   "outputs": [],
   "source": [
    "vecAssembler = VectorAssembler(inputCols=[\"bedrooms\"],\n",
    "                               outputCol=\"features\")\n",
    "\n",
    "lr = LinearRegression(featuresCol=\"features\",\n",
    "                      labelCol=\"price\")"
   ]
  },
  {
   "cell_type": "code",
   "execution_count": 44,
   "metadata": {},
   "outputs": [
    {
     "name": "stderr",
     "output_type": "stream",
     "text": [
      "24/10/27 22:18:01 WARN Instrumentation: [affbc6f3] regParam is zero, which might cause numerical instability and overfitting.\n"
     ]
    }
   ],
   "source": [
    "pipeline = Pipeline(stages=[vecAssembler, lr])\n",
    "\n",
    "pipelineModel = pipeline.fit(trainDF)"
   ]
  },
  {
   "cell_type": "code",
   "execution_count": 45,
   "metadata": {},
   "outputs": [
    {
     "name": "stdout",
     "output_type": "stream",
     "text": [
      "+--------+--------+-----+--------------------+\n",
      "|bedrooms|features|price|round(prediction, 2)|\n",
      "+--------+--------+-----+--------------------+\n",
      "|       1|   [1.0]|   10|              161.37|\n",
      "|       1|   [1.0]|   27|              161.37|\n",
      "|       1|   [1.0]|   28|              161.37|\n",
      "|       1|   [1.0]|   30|              161.37|\n",
      "|       1|   [1.0]|   30|              161.37|\n",
      "|       1|   [1.0]|   30|              161.37|\n",
      "|       1|   [1.0]|   32|              161.37|\n",
      "|       1|   [1.0]|   33|              161.37|\n",
      "|       1|   [1.0]|   35|              161.37|\n",
      "|       1|   [1.0]|   35|              161.37|\n",
      "+--------+--------+-----+--------------------+\n",
      "only showing top 10 rows\n",
      "\n"
     ]
    }
   ],
   "source": [
    "predDF = pipelineModel.transform(testDF)\n",
    "\n",
    "(predDF\n",
    "    .select(\"bedrooms\",\n",
    "            \"features\",\n",
    "            \"price\",\n",
    "            F.round(\"prediction\",2))\n",
    "    .show(10))"
   ]
  }
 ],
 "metadata": {
  "kernelspec": {
   "display_name": "mlbigdata",
   "language": "python",
   "name": "python3"
  },
  "language_info": {
   "codemirror_mode": {
    "name": "ipython",
    "version": 3
   },
   "file_extension": ".py",
   "mimetype": "text/x-python",
   "name": "python",
   "nbconvert_exporter": "python",
   "pygments_lexer": "ipython3",
   "version": "3.11.10"
  }
 },
 "nbformat": 4,
 "nbformat_minor": 2
}
