{
 "cells": [
  {
   "cell_type": "markdown",
   "id": "86f0b7a6",
   "metadata": {
    "id": "86f0b7a6"
   },
   "source": [
    "# Regresión lineal con transformación de la variable respuesta\n",
    "\n",
    "En este notebook mostramos cual sería el resultado de la regresión lineal si realizamos una transformación a la variable respuesta para que su distribución se asemeje más a una distribución normal."
   ]
  },
  {
   "cell_type": "code",
   "execution_count": 4,
   "id": "jUSNg2guAaZe",
   "metadata": {
    "executionInfo": {
     "elapsed": 162,
     "status": "ok",
     "timestamp": 1715650769158,
     "user": {
      "displayName": "Raúl Martínez Noriega",
      "userId": "14536488183963600923"
     },
     "user_tz": 360
    },
    "id": "jUSNg2guAaZe"
   },
   "outputs": [],
   "source": [
    "#--variables globales\n",
    "INPUT_PATH = \"/content/drive/MyDrive/data_sets/parquet/sf-airbnb-clean\""
   ]
  },
  {
   "cell_type": "code",
   "execution_count": 5,
   "id": "BrJfwc2hBfZ5",
   "metadata": {
    "colab": {
     "base_uri": "https://localhost:8080/"
    },
    "executionInfo": {
     "elapsed": 882,
     "status": "ok",
     "timestamp": 1715650770670,
     "user": {
      "displayName": "Raúl Martínez Noriega",
      "userId": "14536488183963600923"
     },
     "user_tz": 360
    },
    "id": "BrJfwc2hBfZ5",
    "outputId": "dc01003a-557b-490d-88ae-44da9ad10037"
   },
   "outputs": [
    {
     "name": "stdout",
     "output_type": "stream",
     "text": [
      "Drive already mounted at /content/drive; to attempt to forcibly remount, call drive.mount(\"/content/drive\", force_remount=True).\n"
     ]
    }
   ],
   "source": [
    "from google.colab import drive\n",
    "drive.mount('/content/drive')"
   ]
  },
  {
   "cell_type": "code",
   "execution_count": 6,
   "id": "UpYBOkWRBDZA",
   "metadata": {
    "colab": {
     "base_uri": "https://localhost:8080/"
    },
    "executionInfo": {
     "elapsed": 6918,
     "status": "ok",
     "timestamp": 1715650778655,
     "user": {
      "displayName": "Raúl Martínez Noriega",
      "userId": "14536488183963600923"
     },
     "user_tz": 360
    },
    "id": "UpYBOkWRBDZA",
    "outputId": "d6b1e44d-05e4-4fe1-c9ad-e347da9d46cb"
   },
   "outputs": [
    {
     "name": "stdout",
     "output_type": "stream",
     "text": [
      "Requirement already satisfied: pyspark in /usr/local/lib/python3.10/dist-packages (3.5.1)\n",
      "Requirement already satisfied: py4j==0.10.9.7 in /usr/local/lib/python3.10/dist-packages (from pyspark) (0.10.9.7)\n"
     ]
    }
   ],
   "source": [
    "!pip install pyspark"
   ]
  },
  {
   "cell_type": "code",
   "execution_count": 7,
   "id": "7b9814ca",
   "metadata": {
    "colab": {
     "base_uri": "https://localhost:8080/",
     "height": 219
    },
    "executionInfo": {
     "elapsed": 17655,
     "status": "ok",
     "timestamp": 1715650801117,
     "user": {
      "displayName": "Raúl Martínez Noriega",
      "userId": "14536488183963600923"
     },
     "user_tz": 360
    },
    "id": "7b9814ca",
    "outputId": "0ab0d9c8-498c-4c54-f816-8b5f6127ba0b"
   },
   "outputs": [
    {
     "data": {
      "text/html": [
       "\n",
       "            <div>\n",
       "                <p><b>SparkSession - in-memory</b></p>\n",
       "                \n",
       "        <div>\n",
       "            <p><b>SparkContext</b></p>\n",
       "\n",
       "            <p><a href=\"http://c644550ec290:4040\">Spark UI</a></p>\n",
       "\n",
       "            <dl>\n",
       "              <dt>Version</dt>\n",
       "                <dd><code>v3.5.1</code></dd>\n",
       "              <dt>Master</dt>\n",
       "                <dd><code>local[*]</code></dd>\n",
       "              <dt>AppName</dt>\n",
       "                <dd><code>pyspark-shell</code></dd>\n",
       "            </dl>\n",
       "        </div>\n",
       "        \n",
       "            </div>\n",
       "        "
      ],
      "text/plain": [
       "<pyspark.sql.session.SparkSession at 0x7e46ee732aa0>"
      ]
     },
     "execution_count": 7,
     "metadata": {},
     "output_type": "execute_result"
    }
   ],
   "source": [
    "from pyspark.sql import SparkSession\n",
    "\n",
    "spark = SparkSession.builder.getOrCreate()\n",
    "spark"
   ]
  },
  {
   "cell_type": "code",
   "execution_count": 8,
   "id": "QH-JDECABJ7u",
   "metadata": {
    "executionInfo": {
     "elapsed": 519,
     "status": "ok",
     "timestamp": 1715650879378,
     "user": {
      "displayName": "Raúl Martínez Noriega",
      "userId": "14536488183963600923"
     },
     "user_tz": 360
    },
    "id": "QH-JDECABJ7u"
   },
   "outputs": [],
   "source": [
    "#--Librerias\n",
    "import pyspark.sql.functions as F\n",
    "from pyspark.ml import Pipeline\n",
    "from pyspark.ml.feature import RFormula\n",
    "from pyspark.ml.regression import LinearRegression\n",
    "from pyspark.ml.evaluation import RegressionEvaluator\n",
    "\n",
    "import numpy as np"
   ]
  },
  {
   "cell_type": "markdown",
   "id": "2e5f4112",
   "metadata": {
    "id": "2e5f4112"
   },
   "source": [
    "Leemos el dataset y volvemos a realizar la misma partición que antes en training y test sets."
   ]
  },
  {
   "cell_type": "code",
   "execution_count": 9,
   "id": "d0c21e8c",
   "metadata": {
    "executionInfo": {
     "elapsed": 7643,
     "status": "ok",
     "timestamp": 1715650891358,
     "user": {
      "displayName": "Raúl Martínez Noriega",
      "userId": "14536488183963600923"
     },
     "user_tz": 360
    },
    "id": "d0c21e8c"
   },
   "outputs": [],
   "source": [
    "airbnbDF = spark.read.parquet(INPUT_PATH)\n",
    "(trainDF, testDF) = airbnbDF.randomSplit([.8, .2], seed=42)"
   ]
  },
  {
   "cell_type": "markdown",
   "id": "ej3LdedWDWR-",
   "metadata": {
    "id": "ej3LdedWDWR-"
   },
   "source": [
    "Una variable respuesta con distribución menos sesgada se puede modelar mejor"
   ]
  },
  {
   "cell_type": "code",
   "execution_count": 10,
   "id": "O_OgTy2PDUyr",
   "metadata": {
    "colab": {
     "base_uri": "https://localhost:8080/",
     "height": 452
    },
    "executionInfo": {
     "elapsed": 6566,
     "status": "ok",
     "timestamp": 1715650897923,
     "user": {
      "displayName": "Raúl Martínez Noriega",
      "userId": "14536488183963600923"
     },
     "user_tz": 360
    },
    "id": "O_OgTy2PDUyr",
    "outputId": "5f351ca9-630e-485d-f30a-d2866c0a71a6"
   },
   "outputs": [
    {
     "data": {
      "image/png": "[encoded data removed]",
      "text/plain": [
       "<Figure size 640x480 with 1 Axes>"
      ]
     },
     "metadata": {},
     "output_type": "display_data"
    }
   ],
   "source": [
    "y = (trainDF\n",
    "      .select('price')\n",
    "      .toPandas())\n",
    "\n",
    "y.hist(bins=50);"
   ]
  },
  {
   "cell_type": "code",
   "execution_count": 11,
   "id": "eHg6UBviDvZ7",
   "metadata": {
    "colab": {
     "base_uri": "https://localhost:8080/",
     "height": 452
    },
    "executionInfo": {
     "elapsed": 373,
     "status": "ok",
     "timestamp": 1715650908047,
     "user": {
      "displayName": "Raúl Martínez Noriega",
      "userId": "14536488183963600923"
     },
     "user_tz": 360
    },
    "id": "eHg6UBviDvZ7",
    "outputId": "6295d63d-f2f4-456f-84c6-3a1d0abba180"
   },
   "outputs": [
    {
     "data": {
      "image/png": "[encoded data removed]",
      "text/plain": [
       "<Figure size 640x480 with 1 Axes>"
      ]
     },
     "metadata": {},
     "output_type": "display_data"
    }
   ],
   "source": [
    "np.log(y).hist(bins=50);"
   ]
  },
  {
   "cell_type": "code",
   "execution_count": 12,
   "id": "836a27d8",
   "metadata": {
    "executionInfo": {
     "elapsed": 26071,
     "status": "ok",
     "timestamp": 1715651027622,
     "user": {
      "displayName": "Raúl Martínez Noriega",
      "userId": "14536488183963600923"
     },
     "user_tz": 360
    },
    "id": "836a27d8"
   },
   "outputs": [],
   "source": [
    "#--aplicamos logaritmo a la variable respuesta, tanto en el training set como en el test set\n",
    "logTrainDF = trainDF.withColumn(\"log_price\", F.log(F.col(\"price\")))\n",
    "logTestDF = testDF.withColumn(\"log_price\", F.log(F.col(\"price\")))\n",
    "\n",
    "#--definimos nuestro modelo, log_price como variable respuesta y todas las demás\n",
    "#-columnas como predictores, excepto por la columna \"price\"\n",
    "rFormula = RFormula(formula=\"log_price ~ . - price\",\n",
    "                    featuresCol=\"features\",\n",
    "                    labelCol=\"log_price\",\n",
    "                    handleInvalid=\"skip\")\n",
    "\n",
    "#--inicializamos nuestro estimador de regresión lineal\n",
    "lr = LinearRegression(labelCol=\"log_price\",\n",
    "                      predictionCol=\"log_pred\")\n",
    "\n",
    "#--juntados todo en un pipeline\n",
    "pipeline = Pipeline(stages = [rFormula, lr])\n",
    "\n",
    "#--entrenamos el modelo\n",
    "pipelineModel = pipeline.fit(logTrainDF)\n",
    "\n",
    "#--hacemos la predicción del testset\n",
    "predDF = pipelineModel.transform(logTestDF)"
   ]
  },
  {
   "cell_type": "markdown",
   "id": "91de47aa",
   "metadata": {
    "id": "91de47aa"
   },
   "source": [
    "Para hacer comparable el RMSE de los modelos, necesitamos \"exponenciar\" los resultados para eliminar el efecto del logaritmo."
   ]
  },
  {
   "cell_type": "code",
   "execution_count": 13,
   "id": "2a6dd0f1",
   "metadata": {
    "colab": {
     "base_uri": "https://localhost:8080/"
    },
    "executionInfo": {
     "elapsed": 2158,
     "status": "ok",
     "timestamp": 1715651056506,
     "user": {
      "displayName": "Raúl Martínez Noriega",
      "userId": "14536488183963600923"
     },
     "user_tz": 360
    },
    "id": "2a6dd0f1",
    "outputId": "7a391505-5107-454e-fa04-2f3d3d6000c5"
   },
   "outputs": [
    {
     "name": "stdout",
     "output_type": "stream",
     "text": [
      "RMSE: 208.44\n",
      "R2: 0.25\n"
     ]
    }
   ],
   "source": [
    "#--aplicamos \"exponente\" a la predicciones logaritmicas\n",
    "expDF = predDF.withColumn(\"prediction\", F.exp(F.col(\"log_pred\")))\n",
    "\n",
    "#--creamos un estimador para evular el RMSE\n",
    "regressionEvaluator = RegressionEvaluator(labelCol=\"price\",\n",
    "                                          predictionCol=\"prediction\")\n",
    "\n",
    "#--medimos tanto el RMSE como la R2\n",
    "rmse = (regressionEvaluator\n",
    "        .setMetricName(\"rmse\")\n",
    "        .evaluate(expDF))\n",
    "\n",
    "r2 = (regressionEvaluator\n",
    "      .setMetricName(\"r2\")\n",
    "      .evaluate(expDF))\n",
    "\n",
    "print(f\"RMSE: {rmse:.2f}\")\n",
    "print(f\"R2: {r2:.2f}\")\n"
   ]
  },
  {
   "cell_type": "code",
   "execution_count": null,
   "id": "6c669276",
   "metadata": {
    "id": "6c669276"
   },
   "outputs": [],
   "source": [
    "spark.stop()"
   ]
  }
 ],
 "metadata": {
  "colab": {
   "provenance": []
  },
  "kernelspec": {
   "display_name": "Python 3",
   "language": "python",
   "name": "python3"
  },
  "language_info": {
   "codemirror_mode": {
    "name": "ipython",
    "version": 3
   },
   "file_extension": ".py",
   "mimetype": "text/x-python",
   "name": "python",
   "nbconvert_exporter": "python",
   "pygments_lexer": "ipython3",
   "version": "3.6.13"
  }
 },
 "nbformat": 4,
 "nbformat_minor": 5
}
